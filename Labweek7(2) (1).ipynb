{
 "cells": [
  {
   "cell_type": "code",
   "execution_count": 40,
   "metadata": {
    "id": "NDz1SdlktEko"
   },
   "outputs": [],
   "source": [
    "import numpy as np\n",
    "import pandas as pd\n",
    "\n",
    "import os\n",
    "import math\n",
    "import time\n",
    "import nltk\n",
    "from nltk.corpus import stopwords\n",
    "from tqdm import tqdm\n",
    "import re\n",
    "\n",
    "from gensim.models import KeyedVectors\n",
    "import gensim.downloader as api\n",
    "\n",
    "import matplotlib.pyplot as plt\n",
    "import seaborn as sns\n",
    "import plotly.figure_factory as ff\n",
    "import plotly.graph_objects as go\n",
    "import plotly.express as px\n",
    "\n",
    "# Below libraries are for text processing using NLTK\n",
    "from nltk.corpus import stopwords\n",
    "from nltk.tokenize import word_tokenize\n",
    "from nltk.stem import WordNetLemmatizer\n",
    "\n",
    "# Below libraries are for feature representation using sklearn\n",
    "from sklearn.feature_extraction.text import CountVectorizer\n",
    "from sklearn.feature_extraction.text import TfidfVectorizer\n",
    "\n",
    "# Below libraries are for similarity matrices using sklearn\n",
    "from sklearn.metrics.pairwise import cosine_similarity\n",
    "from sklearn.metrics import pairwise_distances"
   ]
  },
  {
   "cell_type": "code",
   "execution_count": 6,
   "metadata": {
    "id": "65FHGNj_9qCv"
   },
   "outputs": [],
   "source": [
    "# Load the dataset\n",
    "news_articles = pd.read_json(\"News_Category_Dataset_v2.json\", lines = True)"
   ]
  },
  {
   "cell_type": "code",
   "execution_count": 7,
   "metadata": {
    "colab": {
     "base_uri": "https://localhost:8080/"
    },
    "id": "EVrkFwKl90wR",
    "outputId": "8c8040a4-3edb-46a9-f75b-9e17ade0c5dc"
   },
   "outputs": [
    {
     "name": "stdout",
     "output_type": "stream",
     "text": [
      "<class 'pandas.core.frame.DataFrame'>\n",
      "RangeIndex: 200853 entries, 0 to 200852\n",
      "Data columns (total 6 columns):\n",
      " #   Column             Non-Null Count   Dtype         \n",
      "---  ------             --------------   -----         \n",
      " 0   category           200853 non-null  object        \n",
      " 1   headline           200853 non-null  object        \n",
      " 2   authors            200853 non-null  object        \n",
      " 3   link               200853 non-null  object        \n",
      " 4   short_description  200853 non-null  object        \n",
      " 5   date               200853 non-null  datetime64[ns]\n",
      "dtypes: datetime64[ns](1), object(5)\n",
      "memory usage: 9.2+ MB\n"
     ]
    }
   ],
   "source": [
    "# Inspect the dataset structure and contents\n",
    "news_articles.info()"
   ]
  },
  {
   "cell_type": "code",
   "execution_count": 8,
   "metadata": {
    "colab": {
     "base_uri": "https://localhost:8080/",
     "height": 692
    },
    "id": "3VPmxYK9-57l",
    "outputId": "de19a70a-0c77-406a-a74f-8a1ba9ca91e1"
   },
   "outputs": [
    {
     "data": {
      "text/html": [
       "<div>\n",
       "<style scoped>\n",
       "    .dataframe tbody tr th:only-of-type {\n",
       "        vertical-align: middle;\n",
       "    }\n",
       "\n",
       "    .dataframe tbody tr th {\n",
       "        vertical-align: top;\n",
       "    }\n",
       "\n",
       "    .dataframe thead th {\n",
       "        text-align: right;\n",
       "    }\n",
       "</style>\n",
       "<table border=\"1\" class=\"dataframe\">\n",
       "  <thead>\n",
       "    <tr style=\"text-align: right;\">\n",
       "      <th></th>\n",
       "      <th>category</th>\n",
       "      <th>headline</th>\n",
       "      <th>authors</th>\n",
       "      <th>link</th>\n",
       "      <th>short_description</th>\n",
       "      <th>date</th>\n",
       "    </tr>\n",
       "  </thead>\n",
       "  <tbody>\n",
       "    <tr>\n",
       "      <th>0</th>\n",
       "      <td>CRIME</td>\n",
       "      <td>There Were 2 Mass Shootings In Texas Last Week...</td>\n",
       "      <td>Melissa Jeltsen</td>\n",
       "      <td>https://www.huffingtonpost.com/entry/texas-ama...</td>\n",
       "      <td>She left her husband. He killed their children...</td>\n",
       "      <td>2018-05-26</td>\n",
       "    </tr>\n",
       "    <tr>\n",
       "      <th>1</th>\n",
       "      <td>ENTERTAINMENT</td>\n",
       "      <td>Will Smith Joins Diplo And Nicky Jam For The 2...</td>\n",
       "      <td>Andy McDonald</td>\n",
       "      <td>https://www.huffingtonpost.com/entry/will-smit...</td>\n",
       "      <td>Of course it has a song.</td>\n",
       "      <td>2018-05-26</td>\n",
       "    </tr>\n",
       "    <tr>\n",
       "      <th>2</th>\n",
       "      <td>ENTERTAINMENT</td>\n",
       "      <td>Hugh Grant Marries For The First Time At Age 57</td>\n",
       "      <td>Ron Dicker</td>\n",
       "      <td>https://www.huffingtonpost.com/entry/hugh-gran...</td>\n",
       "      <td>The actor and his longtime girlfriend Anna Ebe...</td>\n",
       "      <td>2018-05-26</td>\n",
       "    </tr>\n",
       "    <tr>\n",
       "      <th>3</th>\n",
       "      <td>ENTERTAINMENT</td>\n",
       "      <td>Jim Carrey Blasts 'Castrato' Adam Schiff And D...</td>\n",
       "      <td>Ron Dicker</td>\n",
       "      <td>https://www.huffingtonpost.com/entry/jim-carre...</td>\n",
       "      <td>The actor gives Dems an ass-kicking for not fi...</td>\n",
       "      <td>2018-05-26</td>\n",
       "    </tr>\n",
       "    <tr>\n",
       "      <th>4</th>\n",
       "      <td>ENTERTAINMENT</td>\n",
       "      <td>Julianna Margulies Uses Donald Trump Poop Bags...</td>\n",
       "      <td>Ron Dicker</td>\n",
       "      <td>https://www.huffingtonpost.com/entry/julianna-...</td>\n",
       "      <td>The \"Dietland\" actress said using the bags is ...</td>\n",
       "      <td>2018-05-26</td>\n",
       "    </tr>\n",
       "  </tbody>\n",
       "</table>\n",
       "</div>"
      ],
      "text/plain": [
       "        category                                           headline  \\\n",
       "0          CRIME  There Were 2 Mass Shootings In Texas Last Week...   \n",
       "1  ENTERTAINMENT  Will Smith Joins Diplo And Nicky Jam For The 2...   \n",
       "2  ENTERTAINMENT    Hugh Grant Marries For The First Time At Age 57   \n",
       "3  ENTERTAINMENT  Jim Carrey Blasts 'Castrato' Adam Schiff And D...   \n",
       "4  ENTERTAINMENT  Julianna Margulies Uses Donald Trump Poop Bags...   \n",
       "\n",
       "           authors                                               link  \\\n",
       "0  Melissa Jeltsen  https://www.huffingtonpost.com/entry/texas-ama...   \n",
       "1    Andy McDonald  https://www.huffingtonpost.com/entry/will-smit...   \n",
       "2       Ron Dicker  https://www.huffingtonpost.com/entry/hugh-gran...   \n",
       "3       Ron Dicker  https://www.huffingtonpost.com/entry/jim-carre...   \n",
       "4       Ron Dicker  https://www.huffingtonpost.com/entry/julianna-...   \n",
       "\n",
       "                                   short_description       date  \n",
       "0  She left her husband. He killed their children... 2018-05-26  \n",
       "1                           Of course it has a song. 2018-05-26  \n",
       "2  The actor and his longtime girlfriend Anna Ebe... 2018-05-26  \n",
       "3  The actor gives Dems an ass-kicking for not fi... 2018-05-26  \n",
       "4  The \"Dietland\" actress said using the bags is ... 2018-05-26  "
      ]
     },
     "execution_count": 8,
     "metadata": {},
     "output_type": "execute_result"
    }
   ],
   "source": [
    "# Display the first few rows of the dataset\n",
    "news_articles.head()"
   ]
  },
  {
   "cell_type": "code",
   "execution_count": 9,
   "metadata": {
    "id": "sq6y4M_H-6EQ"
   },
   "outputs": [],
   "source": [
    "# Filter articles from 2018 onwards\n",
    "news_articles = news_articles[news_articles['date'] >= pd.Timestamp(2018,1,1)]"
   ]
  },
  {
   "cell_type": "code",
   "execution_count": 10,
   "metadata": {
    "colab": {
     "base_uri": "https://localhost:8080/"
    },
    "id": "SC7G5GWT_Kpb",
    "outputId": "71bddc3d-2d1e-4c32-abba-91ea1a24c353"
   },
   "outputs": [
    {
     "data": {
      "text/plain": [
       "(8583, 6)"
      ]
     },
     "execution_count": 10,
     "metadata": {},
     "output_type": "execute_result"
    }
   ],
   "source": [
    "# Check the shape of the filtered dataset\n",
    "news_articles.shape"
   ]
  },
  {
   "cell_type": "code",
   "execution_count": 22,
   "metadata": {
    "colab": {
     "base_uri": "https://localhost:8080/"
    },
    "id": "sOBvlTHG_KtF",
    "outputId": "d0956a3b-e0d3-40b5-edb2-d8c15574b143"
   },
   "outputs": [
    {
     "name": "stdout",
     "output_type": "stream",
     "text": [
      "Total number of articles after removal of headlines with short title: 8485\n",
      "Total number of articles after removing duplicates: 8485\n"
     ]
    }
   ],
   "source": [
    "# Removing all the short headline articles,less than 5 words\n",
    "news_articles = news_articles[news_articles['headline'].apply(lambda x: len(x.split())>5)]\n",
    "print(\"Total number of articles after removal of headlines with short title:\", news_articles.shape[0])\n",
    "# Checking and removing all the duplicates\n",
    "# inplace=True: This argument specifies that the sorting operation should modify the DataFrame news_articles directly. If inplace were set to False (which is the default), the method would return a new DataFrame with the sorted values, leaving the original DataFrame unchanged.\n",
    "news_articles.sort_values('headline',inplace=True, ascending=False) \n",
    "# keep='first' (default): Mark all duplicates as True except for the first occurrence.\n",
    "# keep='last': Mark all duplicates as True except for the last occurrence.\n",
    "# keep=False: Mark all duplicates as True. This means that all occurrences of a duplicate item are marked, not just the repeats.\n",
    "duplicated_articles_series = news_articles.duplicated('headline', keep = 'first')\n",
    "news_articles = news_articles[~duplicated_articles_series]\n",
    "print(\"Total number of articles after removing duplicates:\", news_articles.shape[0])"
   ]
  },
  {
   "cell_type": "code",
   "execution_count": 28,
   "metadata": {
    "colab": {
     "base_uri": "https://localhost:8080/",
     "height": 717
    },
    "id": "zYximQ8Y_Kvw",
    "outputId": "5ff6e6fa-d789-4c4b-b9ea-35148cefe139"
   },
   "outputs": [
    {
     "data": {
      "application/vnd.plotly.v1+json": {
       "config": {
        "plotlyServerURL": "https://plot.ly"
       },
       "data": [
        {
         "alignmentgroup": "True",
         "hovertemplate": "Category Name=%{x}<br>Number of Articles=%{y}<extra></extra>",
         "legendgroup": "",
         "marker": {
          "color": "#636efa",
          "pattern": {
           "shape": ""
          }
         },
         "name": "",
         "offsetgroup": "",
         "orientation": "v",
         "showlegend": false,
         "textposition": "auto",
         "type": "bar",
         "x": [
          "POLITICS",
          "ENTERTAINMENT",
          "WORLD NEWS",
          "QUEER VOICES",
          "COMEDY",
          "BLACK VOICES",
          "SPORTS",
          "MEDIA",
          "WOMEN",
          "WEIRD NEWS",
          "CRIME",
          "BUSINESS",
          "LATINO VOICES",
          "IMPACT",
          "TRAVEL",
          "RELIGION",
          "TECH",
          "SCIENCE",
          "STYLE",
          "PARENTS",
          "EDUCATION",
          "GREEN",
          "HEALTHY LIVING",
          "ARTS & CULTURE",
          "TASTE",
          "COLLEGE"
         ],
         "xaxis": "x",
         "y": [
          3042,
          1699,
          557,
          451,
          443,
          406,
          364,
          290,
          226,
          205,
          170,
          85,
          83,
          73,
          72,
          63,
          53,
          40,
          34,
          32,
          31,
          28,
          15,
          13,
          9,
          1
         ],
         "yaxis": "y"
        }
       ],
       "layout": {
        "barmode": "relative",
        "height": 700,
        "legend": {
         "tracegroupgap": 0
        },
        "template": {
         "data": {
          "bar": [
           {
            "error_x": {
             "color": "#2a3f5f"
            },
            "error_y": {
             "color": "#2a3f5f"
            },
            "marker": {
             "line": {
              "color": "#E5ECF6",
              "width": 0.5
             },
             "pattern": {
              "fillmode": "overlay",
              "size": 10,
              "solidity": 0.2
             }
            },
            "type": "bar"
           }
          ],
          "barpolar": [
           {
            "marker": {
             "line": {
              "color": "#E5ECF6",
              "width": 0.5
             },
             "pattern": {
              "fillmode": "overlay",
              "size": 10,
              "solidity": 0.2
             }
            },
            "type": "barpolar"
           }
          ],
          "carpet": [
           {
            "aaxis": {
             "endlinecolor": "#2a3f5f",
             "gridcolor": "white",
             "linecolor": "white",
             "minorgridcolor": "white",
             "startlinecolor": "#2a3f5f"
            },
            "baxis": {
             "endlinecolor": "#2a3f5f",
             "gridcolor": "white",
             "linecolor": "white",
             "minorgridcolor": "white",
             "startlinecolor": "#2a3f5f"
            },
            "type": "carpet"
           }
          ],
          "choropleth": [
           {
            "colorbar": {
             "outlinewidth": 0,
             "ticks": ""
            },
            "type": "choropleth"
           }
          ],
          "contour": [
           {
            "colorbar": {
             "outlinewidth": 0,
             "ticks": ""
            },
            "colorscale": [
             [
              0,
              "#0d0887"
             ],
             [
              0.1111111111111111,
              "#46039f"
             ],
             [
              0.2222222222222222,
              "#7201a8"
             ],
             [
              0.3333333333333333,
              "#9c179e"
             ],
             [
              0.4444444444444444,
              "#bd3786"
             ],
             [
              0.5555555555555556,
              "#d8576b"
             ],
             [
              0.6666666666666666,
              "#ed7953"
             ],
             [
              0.7777777777777778,
              "#fb9f3a"
             ],
             [
              0.8888888888888888,
              "#fdca26"
             ],
             [
              1,
              "#f0f921"
             ]
            ],
            "type": "contour"
           }
          ],
          "contourcarpet": [
           {
            "colorbar": {
             "outlinewidth": 0,
             "ticks": ""
            },
            "type": "contourcarpet"
           }
          ],
          "heatmap": [
           {
            "colorbar": {
             "outlinewidth": 0,
             "ticks": ""
            },
            "colorscale": [
             [
              0,
              "#0d0887"
             ],
             [
              0.1111111111111111,
              "#46039f"
             ],
             [
              0.2222222222222222,
              "#7201a8"
             ],
             [
              0.3333333333333333,
              "#9c179e"
             ],
             [
              0.4444444444444444,
              "#bd3786"
             ],
             [
              0.5555555555555556,
              "#d8576b"
             ],
             [
              0.6666666666666666,
              "#ed7953"
             ],
             [
              0.7777777777777778,
              "#fb9f3a"
             ],
             [
              0.8888888888888888,
              "#fdca26"
             ],
             [
              1,
              "#f0f921"
             ]
            ],
            "type": "heatmap"
           }
          ],
          "heatmapgl": [
           {
            "colorbar": {
             "outlinewidth": 0,
             "ticks": ""
            },
            "colorscale": [
             [
              0,
              "#0d0887"
             ],
             [
              0.1111111111111111,
              "#46039f"
             ],
             [
              0.2222222222222222,
              "#7201a8"
             ],
             [
              0.3333333333333333,
              "#9c179e"
             ],
             [
              0.4444444444444444,
              "#bd3786"
             ],
             [
              0.5555555555555556,
              "#d8576b"
             ],
             [
              0.6666666666666666,
              "#ed7953"
             ],
             [
              0.7777777777777778,
              "#fb9f3a"
             ],
             [
              0.8888888888888888,
              "#fdca26"
             ],
             [
              1,
              "#f0f921"
             ]
            ],
            "type": "heatmapgl"
           }
          ],
          "histogram": [
           {
            "marker": {
             "pattern": {
              "fillmode": "overlay",
              "size": 10,
              "solidity": 0.2
             }
            },
            "type": "histogram"
           }
          ],
          "histogram2d": [
           {
            "colorbar": {
             "outlinewidth": 0,
             "ticks": ""
            },
            "colorscale": [
             [
              0,
              "#0d0887"
             ],
             [
              0.1111111111111111,
              "#46039f"
             ],
             [
              0.2222222222222222,
              "#7201a8"
             ],
             [
              0.3333333333333333,
              "#9c179e"
             ],
             [
              0.4444444444444444,
              "#bd3786"
             ],
             [
              0.5555555555555556,
              "#d8576b"
             ],
             [
              0.6666666666666666,
              "#ed7953"
             ],
             [
              0.7777777777777778,
              "#fb9f3a"
             ],
             [
              0.8888888888888888,
              "#fdca26"
             ],
             [
              1,
              "#f0f921"
             ]
            ],
            "type": "histogram2d"
           }
          ],
          "histogram2dcontour": [
           {
            "colorbar": {
             "outlinewidth": 0,
             "ticks": ""
            },
            "colorscale": [
             [
              0,
              "#0d0887"
             ],
             [
              0.1111111111111111,
              "#46039f"
             ],
             [
              0.2222222222222222,
              "#7201a8"
             ],
             [
              0.3333333333333333,
              "#9c179e"
             ],
             [
              0.4444444444444444,
              "#bd3786"
             ],
             [
              0.5555555555555556,
              "#d8576b"
             ],
             [
              0.6666666666666666,
              "#ed7953"
             ],
             [
              0.7777777777777778,
              "#fb9f3a"
             ],
             [
              0.8888888888888888,
              "#fdca26"
             ],
             [
              1,
              "#f0f921"
             ]
            ],
            "type": "histogram2dcontour"
           }
          ],
          "mesh3d": [
           {
            "colorbar": {
             "outlinewidth": 0,
             "ticks": ""
            },
            "type": "mesh3d"
           }
          ],
          "parcoords": [
           {
            "line": {
             "colorbar": {
              "outlinewidth": 0,
              "ticks": ""
             }
            },
            "type": "parcoords"
           }
          ],
          "pie": [
           {
            "automargin": true,
            "type": "pie"
           }
          ],
          "scatter": [
           {
            "fillpattern": {
             "fillmode": "overlay",
             "size": 10,
             "solidity": 0.2
            },
            "type": "scatter"
           }
          ],
          "scatter3d": [
           {
            "line": {
             "colorbar": {
              "outlinewidth": 0,
              "ticks": ""
             }
            },
            "marker": {
             "colorbar": {
              "outlinewidth": 0,
              "ticks": ""
             }
            },
            "type": "scatter3d"
           }
          ],
          "scattercarpet": [
           {
            "marker": {
             "colorbar": {
              "outlinewidth": 0,
              "ticks": ""
             }
            },
            "type": "scattercarpet"
           }
          ],
          "scattergeo": [
           {
            "marker": {
             "colorbar": {
              "outlinewidth": 0,
              "ticks": ""
             }
            },
            "type": "scattergeo"
           }
          ],
          "scattergl": [
           {
            "marker": {
             "colorbar": {
              "outlinewidth": 0,
              "ticks": ""
             }
            },
            "type": "scattergl"
           }
          ],
          "scattermapbox": [
           {
            "marker": {
             "colorbar": {
              "outlinewidth": 0,
              "ticks": ""
             }
            },
            "type": "scattermapbox"
           }
          ],
          "scatterpolar": [
           {
            "marker": {
             "colorbar": {
              "outlinewidth": 0,
              "ticks": ""
             }
            },
            "type": "scatterpolar"
           }
          ],
          "scatterpolargl": [
           {
            "marker": {
             "colorbar": {
              "outlinewidth": 0,
              "ticks": ""
             }
            },
            "type": "scatterpolargl"
           }
          ],
          "scatterternary": [
           {
            "marker": {
             "colorbar": {
              "outlinewidth": 0,
              "ticks": ""
             }
            },
            "type": "scatterternary"
           }
          ],
          "surface": [
           {
            "colorbar": {
             "outlinewidth": 0,
             "ticks": ""
            },
            "colorscale": [
             [
              0,
              "#0d0887"
             ],
             [
              0.1111111111111111,
              "#46039f"
             ],
             [
              0.2222222222222222,
              "#7201a8"
             ],
             [
              0.3333333333333333,
              "#9c179e"
             ],
             [
              0.4444444444444444,
              "#bd3786"
             ],
             [
              0.5555555555555556,
              "#d8576b"
             ],
             [
              0.6666666666666666,
              "#ed7953"
             ],
             [
              0.7777777777777778,
              "#fb9f3a"
             ],
             [
              0.8888888888888888,
              "#fdca26"
             ],
             [
              1,
              "#f0f921"
             ]
            ],
            "type": "surface"
           }
          ],
          "table": [
           {
            "cells": {
             "fill": {
              "color": "#EBF0F8"
             },
             "line": {
              "color": "white"
             }
            },
            "header": {
             "fill": {
              "color": "#C8D4E3"
             },
             "line": {
              "color": "white"
             }
            },
            "type": "table"
           }
          ]
         },
         "layout": {
          "annotationdefaults": {
           "arrowcolor": "#2a3f5f",
           "arrowhead": 0,
           "arrowwidth": 1
          },
          "autotypenumbers": "strict",
          "coloraxis": {
           "colorbar": {
            "outlinewidth": 0,
            "ticks": ""
           }
          },
          "colorscale": {
           "diverging": [
            [
             0,
             "#8e0152"
            ],
            [
             0.1,
             "#c51b7d"
            ],
            [
             0.2,
             "#de77ae"
            ],
            [
             0.3,
             "#f1b6da"
            ],
            [
             0.4,
             "#fde0ef"
            ],
            [
             0.5,
             "#f7f7f7"
            ],
            [
             0.6,
             "#e6f5d0"
            ],
            [
             0.7,
             "#b8e186"
            ],
            [
             0.8,
             "#7fbc41"
            ],
            [
             0.9,
             "#4d9221"
            ],
            [
             1,
             "#276419"
            ]
           ],
           "sequential": [
            [
             0,
             "#0d0887"
            ],
            [
             0.1111111111111111,
             "#46039f"
            ],
            [
             0.2222222222222222,
             "#7201a8"
            ],
            [
             0.3333333333333333,
             "#9c179e"
            ],
            [
             0.4444444444444444,
             "#bd3786"
            ],
            [
             0.5555555555555556,
             "#d8576b"
            ],
            [
             0.6666666666666666,
             "#ed7953"
            ],
            [
             0.7777777777777778,
             "#fb9f3a"
            ],
            [
             0.8888888888888888,
             "#fdca26"
            ],
            [
             1,
             "#f0f921"
            ]
           ],
           "sequentialminus": [
            [
             0,
             "#0d0887"
            ],
            [
             0.1111111111111111,
             "#46039f"
            ],
            [
             0.2222222222222222,
             "#7201a8"
            ],
            [
             0.3333333333333333,
             "#9c179e"
            ],
            [
             0.4444444444444444,
             "#bd3786"
            ],
            [
             0.5555555555555556,
             "#d8576b"
            ],
            [
             0.6666666666666666,
             "#ed7953"
            ],
            [
             0.7777777777777778,
             "#fb9f3a"
            ],
            [
             0.8888888888888888,
             "#fdca26"
            ],
            [
             1,
             "#f0f921"
            ]
           ]
          },
          "colorway": [
           "#636efa",
           "#EF553B",
           "#00cc96",
           "#ab63fa",
           "#FFA15A",
           "#19d3f3",
           "#FF6692",
           "#B6E880",
           "#FF97FF",
           "#FECB52"
          ],
          "font": {
           "color": "#2a3f5f"
          },
          "geo": {
           "bgcolor": "white",
           "lakecolor": "white",
           "landcolor": "#E5ECF6",
           "showlakes": true,
           "showland": true,
           "subunitcolor": "white"
          },
          "hoverlabel": {
           "align": "left"
          },
          "hovermode": "closest",
          "mapbox": {
           "style": "light"
          },
          "paper_bgcolor": "white",
          "plot_bgcolor": "#E5ECF6",
          "polar": {
           "angularaxis": {
            "gridcolor": "white",
            "linecolor": "white",
            "ticks": ""
           },
           "bgcolor": "#E5ECF6",
           "radialaxis": {
            "gridcolor": "white",
            "linecolor": "white",
            "ticks": ""
           }
          },
          "scene": {
           "xaxis": {
            "backgroundcolor": "#E5ECF6",
            "gridcolor": "white",
            "gridwidth": 2,
            "linecolor": "white",
            "showbackground": true,
            "ticks": "",
            "zerolinecolor": "white"
           },
           "yaxis": {
            "backgroundcolor": "#E5ECF6",
            "gridcolor": "white",
            "gridwidth": 2,
            "linecolor": "white",
            "showbackground": true,
            "ticks": "",
            "zerolinecolor": "white"
           },
           "zaxis": {
            "backgroundcolor": "#E5ECF6",
            "gridcolor": "white",
            "gridwidth": 2,
            "linecolor": "white",
            "showbackground": true,
            "ticks": "",
            "zerolinecolor": "white"
           }
          },
          "shapedefaults": {
           "line": {
            "color": "#2a3f5f"
           }
          },
          "ternary": {
           "aaxis": {
            "gridcolor": "white",
            "linecolor": "white",
            "ticks": ""
           },
           "baxis": {
            "gridcolor": "white",
            "linecolor": "white",
            "ticks": ""
           },
           "bgcolor": "#E5ECF6",
           "caxis": {
            "gridcolor": "white",
            "linecolor": "white",
            "ticks": ""
           }
          },
          "title": {
           "x": 0.05
          },
          "xaxis": {
           "automargin": true,
           "gridcolor": "white",
           "linecolor": "white",
           "ticks": "",
           "title": {
            "standoff": 15
           },
           "zerolinecolor": "white",
           "zerolinewidth": 2
          },
          "yaxis": {
           "automargin": true,
           "gridcolor": "white",
           "linecolor": "white",
           "ticks": "",
           "title": {
            "standoff": 15
           },
           "zerolinecolor": "white",
           "zerolinewidth": 2
          }
         }
        },
        "title": {
         "text": "Distribution of Articles by Category"
        },
        "width": 800,
        "xaxis": {
         "anchor": "y",
         "autorange": true,
         "domain": [
          0,
          1
         ],
         "range": [
          -0.5,
          25.5
         ],
         "title": {
          "text": "Category Name"
         },
         "type": "category"
        },
        "yaxis": {
         "anchor": "x",
         "autorange": true,
         "domain": [
          0,
          1
         ],
         "range": [
          0,
          3202.1052631578946
         ],
         "title": {
          "text": "Number of Articles"
         },
         "type": "linear"
        }
       }
      },
      "image/png": "[encoded data removed]",
      "text/html": [
       "<div>                            <div id=\"1b2ab17b-4610-4933-85bf-148fcf6046bf\" class=\"plotly-graph-div\" style=\"height:700px; width:800px;\"></div>            <script type=\"text/javascript\">                require([\"plotly\"], function(Plotly) {                    window.PLOTLYENV=window.PLOTLYENV || {};                                    if (document.getElementById(\"1b2ab17b-4610-4933-85bf-148fcf6046bf\")) {                    Plotly.newPlot(                        \"1b2ab17b-4610-4933-85bf-148fcf6046bf\",                        [{\"alignmentgroup\":\"True\",\"hovertemplate\":\"Category Name=%{x}<br>Number of Articles=%{y}<extra></extra>\",\"legendgroup\":\"\",\"marker\":{\"color\":\"#636efa\",\"pattern\":{\"shape\":\"\"}},\"name\":\"\",\"offsetgroup\":\"\",\"orientation\":\"v\",\"showlegend\":false,\"textposition\":\"auto\",\"x\":[\"POLITICS\",\"ENTERTAINMENT\",\"WORLD NEWS\",\"QUEER VOICES\",\"COMEDY\",\"BLACK VOICES\",\"SPORTS\",\"MEDIA\",\"WOMEN\",\"WEIRD NEWS\",\"CRIME\",\"BUSINESS\",\"LATINO VOICES\",\"IMPACT\",\"TRAVEL\",\"RELIGION\",\"TECH\",\"SCIENCE\",\"STYLE\",\"PARENTS\",\"EDUCATION\",\"GREEN\",\"HEALTHY LIVING\",\"ARTS & CULTURE\",\"TASTE\",\"COLLEGE\"],\"xaxis\":\"x\",\"y\":[3042,1699,557,451,443,406,364,290,226,205,170,85,83,73,72,63,53,40,34,32,31,28,15,13,9,1],\"yaxis\":\"y\",\"type\":\"bar\"}],                        {\"template\":{\"data\":{\"histogram2dcontour\":[{\"type\":\"histogram2dcontour\",\"colorbar\":{\"outlinewidth\":0,\"ticks\":\"\"},\"colorscale\":[[0.0,\"#0d0887\"],[0.1111111111111111,\"#46039f\"],[0.2222222222222222,\"#7201a8\"],[0.3333333333333333,\"#9c179e\"],[0.4444444444444444,\"#bd3786\"],[0.5555555555555556,\"#d8576b\"],[0.6666666666666666,\"#ed7953\"],[0.7777777777777778,\"#fb9f3a\"],[0.8888888888888888,\"#fdca26\"],[1.0,\"#f0f921\"]]}],\"choropleth\":[{\"type\":\"choropleth\",\"colorbar\":{\"outlinewidth\":0,\"ticks\":\"\"}}],\"histogram2d\":[{\"type\":\"histogram2d\",\"colorbar\":{\"outlinewidth\":0,\"ticks\":\"\"},\"colorscale\":[[0.0,\"#0d0887\"],[0.1111111111111111,\"#46039f\"],[0.2222222222222222,\"#7201a8\"],[0.3333333333333333,\"#9c179e\"],[0.4444444444444444,\"#bd3786\"],[0.5555555555555556,\"#d8576b\"],[0.6666666666666666,\"#ed7953\"],[0.7777777777777778,\"#fb9f3a\"],[0.8888888888888888,\"#fdca26\"],[1.0,\"#f0f921\"]]}],\"heatmap\":[{\"type\":\"heatmap\",\"colorbar\":{\"outlinewidth\":0,\"ticks\":\"\"},\"colorscale\":[[0.0,\"#0d0887\"],[0.1111111111111111,\"#46039f\"],[0.2222222222222222,\"#7201a8\"],[0.3333333333333333,\"#9c179e\"],[0.4444444444444444,\"#bd3786\"],[0.5555555555555556,\"#d8576b\"],[0.6666666666666666,\"#ed7953\"],[0.7777777777777778,\"#fb9f3a\"],[0.8888888888888888,\"#fdca26\"],[1.0,\"#f0f921\"]]}],\"heatmapgl\":[{\"type\":\"heatmapgl\",\"colorbar\":{\"outlinewidth\":0,\"ticks\":\"\"},\"colorscale\":[[0.0,\"#0d0887\"],[0.1111111111111111,\"#46039f\"],[0.2222222222222222,\"#7201a8\"],[0.3333333333333333,\"#9c179e\"],[0.4444444444444444,\"#bd3786\"],[0.5555555555555556,\"#d8576b\"],[0.6666666666666666,\"#ed7953\"],[0.7777777777777778,\"#fb9f3a\"],[0.8888888888888888,\"#fdca26\"],[1.0,\"#f0f921\"]]}],\"contourcarpet\":[{\"type\":\"contourcarpet\",\"colorbar\":{\"outlinewidth\":0,\"ticks\":\"\"}}],\"contour\":[{\"type\":\"contour\",\"colorbar\":{\"outlinewidth\":0,\"ticks\":\"\"},\"colorscale\":[[0.0,\"#0d0887\"],[0.1111111111111111,\"#46039f\"],[0.2222222222222222,\"#7201a8\"],[0.3333333333333333,\"#9c179e\"],[0.4444444444444444,\"#bd3786\"],[0.5555555555555556,\"#d8576b\"],[0.6666666666666666,\"#ed7953\"],[0.7777777777777778,\"#fb9f3a\"],[0.8888888888888888,\"#fdca26\"],[1.0,\"#f0f921\"]]}],\"surface\":[{\"type\":\"surface\",\"colorbar\":{\"outlinewidth\":0,\"ticks\":\"\"},\"colorscale\":[[0.0,\"#0d0887\"],[0.1111111111111111,\"#46039f\"],[0.2222222222222222,\"#7201a8\"],[0.3333333333333333,\"#9c179e\"],[0.4444444444444444,\"#bd3786\"],[0.5555555555555556,\"#d8576b\"],[0.6666666666666666,\"#ed7953\"],[0.7777777777777778,\"#fb9f3a\"],[0.8888888888888888,\"#fdca26\"],[1.0,\"#f0f921\"]]}],\"mesh3d\":[{\"type\":\"mesh3d\",\"colorbar\":{\"outlinewidth\":0,\"ticks\":\"\"}}],\"scatter\":[{\"fillpattern\":{\"fillmode\":\"overlay\",\"size\":10,\"solidity\":0.2},\"type\":\"scatter\"}],\"parcoords\":[{\"type\":\"parcoords\",\"line\":{\"colorbar\":{\"outlinewidth\":0,\"ticks\":\"\"}}}],\"scatterpolargl\":[{\"type\":\"scatterpolargl\",\"marker\":{\"colorbar\":{\"outlinewidth\":0,\"ticks\":\"\"}}}],\"bar\":[{\"error_x\":{\"color\":\"#2a3f5f\"},\"error_y\":{\"color\":\"#2a3f5f\"},\"marker\":{\"line\":{\"color\":\"#E5ECF6\",\"width\":0.5},\"pattern\":{\"fillmode\":\"overlay\",\"size\":10,\"solidity\":0.2}},\"type\":\"bar\"}],\"scattergeo\":[{\"type\":\"scattergeo\",\"marker\":{\"colorbar\":{\"outlinewidth\":0,\"ticks\":\"\"}}}],\"scatterpolar\":[{\"type\":\"scatterpolar\",\"marker\":{\"colorbar\":{\"outlinewidth\":0,\"ticks\":\"\"}}}],\"histogram\":[{\"marker\":{\"pattern\":{\"fillmode\":\"overlay\",\"size\":10,\"solidity\":0.2}},\"type\":\"histogram\"}],\"scattergl\":[{\"type\":\"scattergl\",\"marker\":{\"colorbar\":{\"outlinewidth\":0,\"ticks\":\"\"}}}],\"scatter3d\":[{\"type\":\"scatter3d\",\"line\":{\"colorbar\":{\"outlinewidth\":0,\"ticks\":\"\"}},\"marker\":{\"colorbar\":{\"outlinewidth\":0,\"ticks\":\"\"}}}],\"scattermapbox\":[{\"type\":\"scattermapbox\",\"marker\":{\"colorbar\":{\"outlinewidth\":0,\"ticks\":\"\"}}}],\"scatterternary\":[{\"type\":\"scatterternary\",\"marker\":{\"colorbar\":{\"outlinewidth\":0,\"ticks\":\"\"}}}],\"scattercarpet\":[{\"type\":\"scattercarpet\",\"marker\":{\"colorbar\":{\"outlinewidth\":0,\"ticks\":\"\"}}}],\"carpet\":[{\"aaxis\":{\"endlinecolor\":\"#2a3f5f\",\"gridcolor\":\"white\",\"linecolor\":\"white\",\"minorgridcolor\":\"white\",\"startlinecolor\":\"#2a3f5f\"},\"baxis\":{\"endlinecolor\":\"#2a3f5f\",\"gridcolor\":\"white\",\"linecolor\":\"white\",\"minorgridcolor\":\"white\",\"startlinecolor\":\"#2a3f5f\"},\"type\":\"carpet\"}],\"table\":[{\"cells\":{\"fill\":{\"color\":\"#EBF0F8\"},\"line\":{\"color\":\"white\"}},\"header\":{\"fill\":{\"color\":\"#C8D4E3\"},\"line\":{\"color\":\"white\"}},\"type\":\"table\"}],\"barpolar\":[{\"marker\":{\"line\":{\"color\":\"#E5ECF6\",\"width\":0.5},\"pattern\":{\"fillmode\":\"overlay\",\"size\":10,\"solidity\":0.2}},\"type\":\"barpolar\"}],\"pie\":[{\"automargin\":true,\"type\":\"pie\"}]},\"layout\":{\"autotypenumbers\":\"strict\",\"colorway\":[\"#636efa\",\"#EF553B\",\"#00cc96\",\"#ab63fa\",\"#FFA15A\",\"#19d3f3\",\"#FF6692\",\"#B6E880\",\"#FF97FF\",\"#FECB52\"],\"font\":{\"color\":\"#2a3f5f\"},\"hovermode\":\"closest\",\"hoverlabel\":{\"align\":\"left\"},\"paper_bgcolor\":\"white\",\"plot_bgcolor\":\"#E5ECF6\",\"polar\":{\"bgcolor\":\"#E5ECF6\",\"angularaxis\":{\"gridcolor\":\"white\",\"linecolor\":\"white\",\"ticks\":\"\"},\"radialaxis\":{\"gridcolor\":\"white\",\"linecolor\":\"white\",\"ticks\":\"\"}},\"ternary\":{\"bgcolor\":\"#E5ECF6\",\"aaxis\":{\"gridcolor\":\"white\",\"linecolor\":\"white\",\"ticks\":\"\"},\"baxis\":{\"gridcolor\":\"white\",\"linecolor\":\"white\",\"ticks\":\"\"},\"caxis\":{\"gridcolor\":\"white\",\"linecolor\":\"white\",\"ticks\":\"\"}},\"coloraxis\":{\"colorbar\":{\"outlinewidth\":0,\"ticks\":\"\"}},\"colorscale\":{\"sequential\":[[0.0,\"#0d0887\"],[0.1111111111111111,\"#46039f\"],[0.2222222222222222,\"#7201a8\"],[0.3333333333333333,\"#9c179e\"],[0.4444444444444444,\"#bd3786\"],[0.5555555555555556,\"#d8576b\"],[0.6666666666666666,\"#ed7953\"],[0.7777777777777778,\"#fb9f3a\"],[0.8888888888888888,\"#fdca26\"],[1.0,\"#f0f921\"]],\"sequentialminus\":[[0.0,\"#0d0887\"],[0.1111111111111111,\"#46039f\"],[0.2222222222222222,\"#7201a8\"],[0.3333333333333333,\"#9c179e\"],[0.4444444444444444,\"#bd3786\"],[0.5555555555555556,\"#d8576b\"],[0.6666666666666666,\"#ed7953\"],[0.7777777777777778,\"#fb9f3a\"],[0.8888888888888888,\"#fdca26\"],[1.0,\"#f0f921\"]],\"diverging\":[[0,\"#8e0152\"],[0.1,\"#c51b7d\"],[0.2,\"#de77ae\"],[0.3,\"#f1b6da\"],[0.4,\"#fde0ef\"],[0.5,\"#f7f7f7\"],[0.6,\"#e6f5d0\"],[0.7,\"#b8e186\"],[0.8,\"#7fbc41\"],[0.9,\"#4d9221\"],[1,\"#276419\"]]},\"xaxis\":{\"gridcolor\":\"white\",\"linecolor\":\"white\",\"ticks\":\"\",\"title\":{\"standoff\":15},\"zerolinecolor\":\"white\",\"automargin\":true,\"zerolinewidth\":2},\"yaxis\":{\"gridcolor\":\"white\",\"linecolor\":\"white\",\"ticks\":\"\",\"title\":{\"standoff\":15},\"zerolinecolor\":\"white\",\"automargin\":true,\"zerolinewidth\":2},\"scene\":{\"xaxis\":{\"backgroundcolor\":\"#E5ECF6\",\"gridcolor\":\"white\",\"linecolor\":\"white\",\"showbackground\":true,\"ticks\":\"\",\"zerolinecolor\":\"white\",\"gridwidth\":2},\"yaxis\":{\"backgroundcolor\":\"#E5ECF6\",\"gridcolor\":\"white\",\"linecolor\":\"white\",\"showbackground\":true,\"ticks\":\"\",\"zerolinecolor\":\"white\",\"gridwidth\":2},\"zaxis\":{\"backgroundcolor\":\"#E5ECF6\",\"gridcolor\":\"white\",\"linecolor\":\"white\",\"showbackground\":true,\"ticks\":\"\",\"zerolinecolor\":\"white\",\"gridwidth\":2}},\"shapedefaults\":{\"line\":{\"color\":\"#2a3f5f\"}},\"annotationdefaults\":{\"arrowcolor\":\"#2a3f5f\",\"arrowhead\":0,\"arrowwidth\":1},\"geo\":{\"bgcolor\":\"white\",\"landcolor\":\"#E5ECF6\",\"subunitcolor\":\"white\",\"showland\":true,\"showlakes\":true,\"lakecolor\":\"white\"},\"title\":{\"x\":0.05},\"mapbox\":{\"style\":\"light\"}}},\"xaxis\":{\"anchor\":\"y\",\"domain\":[0.0,1.0],\"title\":{\"text\":\"Category Name\"}},\"yaxis\":{\"anchor\":\"x\",\"domain\":[0.0,1.0],\"title\":{\"text\":\"Number of Articles\"}},\"legend\":{\"tracegroupgap\":0},\"title\":{\"text\":\"Distribution of Articles by Category\"},\"barmode\":\"relative\",\"width\":800,\"height\":700},                        {\"responsive\": true}                    ).then(function(){\n",
       "                            \n",
       "var gd = document.getElementById('1b2ab17b-4610-4933-85bf-148fcf6046bf');\n",
       "var x = new MutationObserver(function (mutations, observer) {{\n",
       "        var display = window.getComputedStyle(gd).display;\n",
       "        if (!display || display === 'none') {{\n",
       "            console.log([gd, 'removed!']);\n",
       "            Plotly.purge(gd);\n",
       "            observer.disconnect();\n",
       "        }}\n",
       "}});\n",
       "\n",
       "// Listen for the removal of the full notebook cells\n",
       "var notebookContainer = gd.closest('#notebook-container');\n",
       "if (notebookContainer) {{\n",
       "    x.observe(notebookContainer, {childList: true});\n",
       "}}\n",
       "\n",
       "// Listen for the clearing of the current output cell\n",
       "var outputEl = gd.closest('.output');\n",
       "if (outputEl) {{\n",
       "    x.observe(outputEl, {childList: true});\n",
       "}}\n",
       "\n",
       "                        })                };                });            </script>        </div>"
      ]
     },
     "metadata": {},
     "output_type": "display_data"
    }
   ],
   "source": [
    "# Create a bar chart to visualize the distribution of articles by category using Plotly Express\n",
    "# value_counts(): This method counts the occurrences of each unique value in the category column of the news_articles DataFrame. It then automatically sorts these counts in descending order\n",
    "# reset_index(): This is used to convert the Series returned by value_counts() into a DataFrame, which is necessary for Plotly Express to plot the data correctly. \n",
    "fig = px.bar(news_articles['category'].value_counts().reset_index(), \n",
    "             x='index', \n",
    "             y='category', \n",
    "             labels={'index': 'Category Name', 'category': 'Number of Articles'},\n",
    "             title='Distribution of Articles by Category')\n",
    "fig.update_layout(width=800, height=700)\n",
    "fig.show()\n",
    "\n",
    "# # Create a bar chart to visualize the distribution of articles by category using Plotly Express\n",
    "# # value_counts(): This method counts the occurrences of each unique value in the category column of the news_articles DataFrame. It then automatically sorts these counts in descending order\n",
    "# # reset_index(): This is used to convert the Series returned by value_counts() into a DataFrame, which is necessary for Plotly Express to plot the data correctly. \n",
    "# fig = px.bar(news_articles['category'].value_counts().reset_index(), \n",
    "#              x='category', \n",
    "#              y='count', \n",
    "#              labels={'category': 'Category Name', 'count': 'Number of Articles'},\n",
    "#              title='Distribution of Articles by Category')\n",
    "# fig.update_layout(width=800, height=700)\n",
    "# fig.show()"
   ]
  },
  {
   "cell_type": "code",
   "execution_count": 29,
   "metadata": {
    "colab": {
     "base_uri": "https://localhost:8080/",
     "height": 517
    },
    "id": "eF5pxJzB_KzF",
    "outputId": "9dfa9d9d-b9c2-4d18-a7ee-8b0bbf4489e4"
   },
   "outputs": [
    {
     "data": {
      "application/vnd.plotly.v1+json": {
       "config": {
        "plotlyServerURL": "https://plot.ly"
       },
       "data": [
        {
         "alignmentgroup": "True",
         "hovertemplate": "Month=%{x}<br>Number of Articles=%{y}<extra></extra>",
         "legendgroup": "",
         "marker": {
          "color": "#636efa",
          "pattern": {
           "shape": ""
          }
         },
         "name": "",
         "offsetgroup": "",
         "orientation": "v",
         "showlegend": false,
         "textposition": "auto",
         "type": "bar",
         "x": [
          "Jan",
          "Feb",
          "Mar",
          "Apr",
          "May"
         ],
         "xaxis": "x",
         "y": [
          2065,
          1694,
          1778,
          1580,
          1368
         ],
         "yaxis": "y"
        }
       ],
       "layout": {
        "barmode": "relative",
        "height": 500,
        "legend": {
         "tracegroupgap": 0
        },
        "template": {
         "data": {
          "bar": [
           {
            "error_x": {
             "color": "#2a3f5f"
            },
            "error_y": {
             "color": "#2a3f5f"
            },
            "marker": {
             "line": {
              "color": "#E5ECF6",
              "width": 0.5
             },
             "pattern": {
              "fillmode": "overlay",
              "size": 10,
              "solidity": 0.2
             }
            },
            "type": "bar"
           }
          ],
          "barpolar": [
           {
            "marker": {
             "line": {
              "color": "#E5ECF6",
              "width": 0.5
             },
             "pattern": {
              "fillmode": "overlay",
              "size": 10,
              "solidity": 0.2
             }
            },
            "type": "barpolar"
           }
          ],
          "carpet": [
           {
            "aaxis": {
             "endlinecolor": "#2a3f5f",
             "gridcolor": "white",
             "linecolor": "white",
             "minorgridcolor": "white",
             "startlinecolor": "#2a3f5f"
            },
            "baxis": {
             "endlinecolor": "#2a3f5f",
             "gridcolor": "white",
             "linecolor": "white",
             "minorgridcolor": "white",
             "startlinecolor": "#2a3f5f"
            },
            "type": "carpet"
           }
          ],
          "choropleth": [
           {
            "colorbar": {
             "outlinewidth": 0,
             "ticks": ""
            },
            "type": "choropleth"
           }
          ],
          "contour": [
           {
            "colorbar": {
             "outlinewidth": 0,
             "ticks": ""
            },
            "colorscale": [
             [
              0,
              "#0d0887"
             ],
             [
              0.1111111111111111,
              "#46039f"
             ],
             [
              0.2222222222222222,
              "#7201a8"
             ],
             [
              0.3333333333333333,
              "#9c179e"
             ],
             [
              0.4444444444444444,
              "#bd3786"
             ],
             [
              0.5555555555555556,
              "#d8576b"
             ],
             [
              0.6666666666666666,
              "#ed7953"
             ],
             [
              0.7777777777777778,
              "#fb9f3a"
             ],
             [
              0.8888888888888888,
              "#fdca26"
             ],
             [
              1,
              "#f0f921"
             ]
            ],
            "type": "contour"
           }
          ],
          "contourcarpet": [
           {
            "colorbar": {
             "outlinewidth": 0,
             "ticks": ""
            },
            "type": "contourcarpet"
           }
          ],
          "heatmap": [
           {
            "colorbar": {
             "outlinewidth": 0,
             "ticks": ""
            },
            "colorscale": [
             [
              0,
              "#0d0887"
             ],
             [
              0.1111111111111111,
              "#46039f"
             ],
             [
              0.2222222222222222,
              "#7201a8"
             ],
             [
              0.3333333333333333,
              "#9c179e"
             ],
             [
              0.4444444444444444,
              "#bd3786"
             ],
             [
              0.5555555555555556,
              "#d8576b"
             ],
             [
              0.6666666666666666,
              "#ed7953"
             ],
             [
              0.7777777777777778,
              "#fb9f3a"
             ],
             [
              0.8888888888888888,
              "#fdca26"
             ],
             [
              1,
              "#f0f921"
             ]
            ],
            "type": "heatmap"
           }
          ],
          "heatmapgl": [
           {
            "colorbar": {
             "outlinewidth": 0,
             "ticks": ""
            },
            "colorscale": [
             [
              0,
              "#0d0887"
             ],
             [
              0.1111111111111111,
              "#46039f"
             ],
             [
              0.2222222222222222,
              "#7201a8"
             ],
             [
              0.3333333333333333,
              "#9c179e"
             ],
             [
              0.4444444444444444,
              "#bd3786"
             ],
             [
              0.5555555555555556,
              "#d8576b"
             ],
             [
              0.6666666666666666,
              "#ed7953"
             ],
             [
              0.7777777777777778,
              "#fb9f3a"
             ],
             [
              0.8888888888888888,
              "#fdca26"
             ],
             [
              1,
              "#f0f921"
             ]
            ],
            "type": "heatmapgl"
           }
          ],
          "histogram": [
           {
            "marker": {
             "pattern": {
              "fillmode": "overlay",
              "size": 10,
              "solidity": 0.2
             }
            },
            "type": "histogram"
           }
          ],
          "histogram2d": [
           {
            "colorbar": {
             "outlinewidth": 0,
             "ticks": ""
            },
            "colorscale": [
             [
              0,
              "#0d0887"
             ],
             [
              0.1111111111111111,
              "#46039f"
             ],
             [
              0.2222222222222222,
              "#7201a8"
             ],
             [
              0.3333333333333333,
              "#9c179e"
             ],
             [
              0.4444444444444444,
              "#bd3786"
             ],
             [
              0.5555555555555556,
              "#d8576b"
             ],
             [
              0.6666666666666666,
              "#ed7953"
             ],
             [
              0.7777777777777778,
              "#fb9f3a"
             ],
             [
              0.8888888888888888,
              "#fdca26"
             ],
             [
              1,
              "#f0f921"
             ]
            ],
            "type": "histogram2d"
           }
          ],
          "histogram2dcontour": [
           {
            "colorbar": {
             "outlinewidth": 0,
             "ticks": ""
            },
            "colorscale": [
             [
              0,
              "#0d0887"
             ],
             [
              0.1111111111111111,
              "#46039f"
             ],
             [
              0.2222222222222222,
              "#7201a8"
             ],
             [
              0.3333333333333333,
              "#9c179e"
             ],
             [
              0.4444444444444444,
              "#bd3786"
             ],
             [
              0.5555555555555556,
              "#d8576b"
             ],
             [
              0.6666666666666666,
              "#ed7953"
             ],
             [
              0.7777777777777778,
              "#fb9f3a"
             ],
             [
              0.8888888888888888,
              "#fdca26"
             ],
             [
              1,
              "#f0f921"
             ]
            ],
            "type": "histogram2dcontour"
           }
          ],
          "mesh3d": [
           {
            "colorbar": {
             "outlinewidth": 0,
             "ticks": ""
            },
            "type": "mesh3d"
           }
          ],
          "parcoords": [
           {
            "line": {
             "colorbar": {
              "outlinewidth": 0,
              "ticks": ""
             }
            },
            "type": "parcoords"
           }
          ],
          "pie": [
           {
            "automargin": true,
            "type": "pie"
           }
          ],
          "scatter": [
           {
            "fillpattern": {
             "fillmode": "overlay",
             "size": 10,
             "solidity": 0.2
            },
            "type": "scatter"
           }
          ],
          "scatter3d": [
           {
            "line": {
             "colorbar": {
              "outlinewidth": 0,
              "ticks": ""
             }
            },
            "marker": {
             "colorbar": {
              "outlinewidth": 0,
              "ticks": ""
             }
            },
            "type": "scatter3d"
           }
          ],
          "scattercarpet": [
           {
            "marker": {
             "colorbar": {
              "outlinewidth": 0,
              "ticks": ""
             }
            },
            "type": "scattercarpet"
           }
          ],
          "scattergeo": [
           {
            "marker": {
             "colorbar": {
              "outlinewidth": 0,
              "ticks": ""
             }
            },
            "type": "scattergeo"
           }
          ],
          "scattergl": [
           {
            "marker": {
             "colorbar": {
              "outlinewidth": 0,
              "ticks": ""
             }
            },
            "type": "scattergl"
           }
          ],
          "scattermapbox": [
           {
            "marker": {
             "colorbar": {
              "outlinewidth": 0,
              "ticks": ""
             }
            },
            "type": "scattermapbox"
           }
          ],
          "scatterpolar": [
           {
            "marker": {
             "colorbar": {
              "outlinewidth": 0,
              "ticks": ""
             }
            },
            "type": "scatterpolar"
           }
          ],
          "scatterpolargl": [
           {
            "marker": {
             "colorbar": {
              "outlinewidth": 0,
              "ticks": ""
             }
            },
            "type": "scatterpolargl"
           }
          ],
          "scatterternary": [
           {
            "marker": {
             "colorbar": {
              "outlinewidth": 0,
              "ticks": ""
             }
            },
            "type": "scatterternary"
           }
          ],
          "surface": [
           {
            "colorbar": {
             "outlinewidth": 0,
             "ticks": ""
            },
            "colorscale": [
             [
              0,
              "#0d0887"
             ],
             [
              0.1111111111111111,
              "#46039f"
             ],
             [
              0.2222222222222222,
              "#7201a8"
             ],
             [
              0.3333333333333333,
              "#9c179e"
             ],
             [
              0.4444444444444444,
              "#bd3786"
             ],
             [
              0.5555555555555556,
              "#d8576b"
             ],
             [
              0.6666666666666666,
              "#ed7953"
             ],
             [
              0.7777777777777778,
              "#fb9f3a"
             ],
             [
              0.8888888888888888,
              "#fdca26"
             ],
             [
              1,
              "#f0f921"
             ]
            ],
            "type": "surface"
           }
          ],
          "table": [
           {
            "cells": {
             "fill": {
              "color": "#EBF0F8"
             },
             "line": {
              "color": "white"
             }
            },
            "header": {
             "fill": {
              "color": "#C8D4E3"
             },
             "line": {
              "color": "white"
             }
            },
            "type": "table"
           }
          ]
         },
         "layout": {
          "annotationdefaults": {
           "arrowcolor": "#2a3f5f",
           "arrowhead": 0,
           "arrowwidth": 1
          },
          "autotypenumbers": "strict",
          "coloraxis": {
           "colorbar": {
            "outlinewidth": 0,
            "ticks": ""
           }
          },
          "colorscale": {
           "diverging": [
            [
             0,
             "#8e0152"
            ],
            [
             0.1,
             "#c51b7d"
            ],
            [
             0.2,
             "#de77ae"
            ],
            [
             0.3,
             "#f1b6da"
            ],
            [
             0.4,
             "#fde0ef"
            ],
            [
             0.5,
             "#f7f7f7"
            ],
            [
             0.6,
             "#e6f5d0"
            ],
            [
             0.7,
             "#b8e186"
            ],
            [
             0.8,
             "#7fbc41"
            ],
            [
             0.9,
             "#4d9221"
            ],
            [
             1,
             "#276419"
            ]
           ],
           "sequential": [
            [
             0,
             "#0d0887"
            ],
            [
             0.1111111111111111,
             "#46039f"
            ],
            [
             0.2222222222222222,
             "#7201a8"
            ],
            [
             0.3333333333333333,
             "#9c179e"
            ],
            [
             0.4444444444444444,
             "#bd3786"
            ],
            [
             0.5555555555555556,
             "#d8576b"
            ],
            [
             0.6666666666666666,
             "#ed7953"
            ],
            [
             0.7777777777777778,
             "#fb9f3a"
            ],
            [
             0.8888888888888888,
             "#fdca26"
            ],
            [
             1,
             "#f0f921"
            ]
           ],
           "sequentialminus": [
            [
             0,
             "#0d0887"
            ],
            [
             0.1111111111111111,
             "#46039f"
            ],
            [
             0.2222222222222222,
             "#7201a8"
            ],
            [
             0.3333333333333333,
             "#9c179e"
            ],
            [
             0.4444444444444444,
             "#bd3786"
            ],
            [
             0.5555555555555556,
             "#d8576b"
            ],
            [
             0.6666666666666666,
             "#ed7953"
            ],
            [
             0.7777777777777778,
             "#fb9f3a"
            ],
            [
             0.8888888888888888,
             "#fdca26"
            ],
            [
             1,
             "#f0f921"
            ]
           ]
          },
          "colorway": [
           "#636efa",
           "#EF553B",
           "#00cc96",
           "#ab63fa",
           "#FFA15A",
           "#19d3f3",
           "#FF6692",
           "#B6E880",
           "#FF97FF",
           "#FECB52"
          ],
          "font": {
           "color": "#2a3f5f"
          },
          "geo": {
           "bgcolor": "white",
           "lakecolor": "white",
           "landcolor": "#E5ECF6",
           "showlakes": true,
           "showland": true,
           "subunitcolor": "white"
          },
          "hoverlabel": {
           "align": "left"
          },
          "hovermode": "closest",
          "mapbox": {
           "style": "light"
          },
          "paper_bgcolor": "white",
          "plot_bgcolor": "#E5ECF6",
          "polar": {
           "angularaxis": {
            "gridcolor": "white",
            "linecolor": "white",
            "ticks": ""
           },
           "bgcolor": "#E5ECF6",
           "radialaxis": {
            "gridcolor": "white",
            "linecolor": "white",
            "ticks": ""
           }
          },
          "scene": {
           "xaxis": {
            "backgroundcolor": "#E5ECF6",
            "gridcolor": "white",
            "gridwidth": 2,
            "linecolor": "white",
            "showbackground": true,
            "ticks": "",
            "zerolinecolor": "white"
           },
           "yaxis": {
            "backgroundcolor": "#E5ECF6",
            "gridcolor": "white",
            "gridwidth": 2,
            "linecolor": "white",
            "showbackground": true,
            "ticks": "",
            "zerolinecolor": "white"
           },
           "zaxis": {
            "backgroundcolor": "#E5ECF6",
            "gridcolor": "white",
            "gridwidth": 2,
            "linecolor": "white",
            "showbackground": true,
            "ticks": "",
            "zerolinecolor": "white"
           }
          },
          "shapedefaults": {
           "line": {
            "color": "#2a3f5f"
           }
          },
          "ternary": {
           "aaxis": {
            "gridcolor": "white",
            "linecolor": "white",
            "ticks": ""
           },
           "baxis": {
            "gridcolor": "white",
            "linecolor": "white",
            "ticks": ""
           },
           "bgcolor": "#E5ECF6",
           "caxis": {
            "gridcolor": "white",
            "linecolor": "white",
            "ticks": ""
           }
          },
          "title": {
           "x": 0.05
          },
          "xaxis": {
           "automargin": true,
           "gridcolor": "white",
           "linecolor": "white",
           "ticks": "",
           "title": {
            "standoff": 15
           },
           "zerolinecolor": "white",
           "zerolinewidth": 2
          },
          "yaxis": {
           "automargin": true,
           "gridcolor": "white",
           "linecolor": "white",
           "ticks": "",
           "title": {
            "standoff": 15
           },
           "zerolinecolor": "white",
           "zerolinewidth": 2
          }
         }
        },
        "title": {
         "text": "Distribution of Articles Month-wise"
        },
        "width": 500,
        "xaxis": {
         "anchor": "y",
         "autorange": true,
         "domain": [
          0,
          1
         ],
         "range": [
          -0.5,
          4.5
         ],
         "title": {
          "text": "Month"
         },
         "type": "category"
        },
        "yaxis": {
         "anchor": "x",
         "autorange": true,
         "domain": [
          0,
          1
         ],
         "range": [
          0,
          2173.684210526316
         ],
         "title": {
          "text": "Number of Articles"
         },
         "type": "linear"
        }
       }
      },
      "image/png": "[encoded data removed]",
      "text/html": [
       "<div>                            <div id=\"6d564b8a-b062-4d6b-9abd-6219ce1fde05\" class=\"plotly-graph-div\" style=\"height:500px; width:500px;\"></div>            <script type=\"text/javascript\">                require([\"plotly\"], function(Plotly) {                    window.PLOTLYENV=window.PLOTLYENV || {};                                    if (document.getElementById(\"6d564b8a-b062-4d6b-9abd-6219ce1fde05\")) {                    Plotly.newPlot(                        \"6d564b8a-b062-4d6b-9abd-6219ce1fde05\",                        [{\"alignmentgroup\":\"True\",\"hovertemplate\":\"Month=%{x}<br>Number of Articles=%{y}<extra></extra>\",\"legendgroup\":\"\",\"marker\":{\"color\":\"#636efa\",\"pattern\":{\"shape\":\"\"}},\"name\":\"\",\"offsetgroup\":\"\",\"orientation\":\"v\",\"showlegend\":false,\"textposition\":\"auto\",\"x\":[\"Jan\",\"Feb\",\"Mar\",\"Apr\",\"May\"],\"xaxis\":\"x\",\"y\":[2065,1694,1778,1580,1368],\"yaxis\":\"y\",\"type\":\"bar\"}],                        {\"template\":{\"data\":{\"histogram2dcontour\":[{\"type\":\"histogram2dcontour\",\"colorbar\":{\"outlinewidth\":0,\"ticks\":\"\"},\"colorscale\":[[0.0,\"#0d0887\"],[0.1111111111111111,\"#46039f\"],[0.2222222222222222,\"#7201a8\"],[0.3333333333333333,\"#9c179e\"],[0.4444444444444444,\"#bd3786\"],[0.5555555555555556,\"#d8576b\"],[0.6666666666666666,\"#ed7953\"],[0.7777777777777778,\"#fb9f3a\"],[0.8888888888888888,\"#fdca26\"],[1.0,\"#f0f921\"]]}],\"choropleth\":[{\"type\":\"choropleth\",\"colorbar\":{\"outlinewidth\":0,\"ticks\":\"\"}}],\"histogram2d\":[{\"type\":\"histogram2d\",\"colorbar\":{\"outlinewidth\":0,\"ticks\":\"\"},\"colorscale\":[[0.0,\"#0d0887\"],[0.1111111111111111,\"#46039f\"],[0.2222222222222222,\"#7201a8\"],[0.3333333333333333,\"#9c179e\"],[0.4444444444444444,\"#bd3786\"],[0.5555555555555556,\"#d8576b\"],[0.6666666666666666,\"#ed7953\"],[0.7777777777777778,\"#fb9f3a\"],[0.8888888888888888,\"#fdca26\"],[1.0,\"#f0f921\"]]}],\"heatmap\":[{\"type\":\"heatmap\",\"colorbar\":{\"outlinewidth\":0,\"ticks\":\"\"},\"colorscale\":[[0.0,\"#0d0887\"],[0.1111111111111111,\"#46039f\"],[0.2222222222222222,\"#7201a8\"],[0.3333333333333333,\"#9c179e\"],[0.4444444444444444,\"#bd3786\"],[0.5555555555555556,\"#d8576b\"],[0.6666666666666666,\"#ed7953\"],[0.7777777777777778,\"#fb9f3a\"],[0.8888888888888888,\"#fdca26\"],[1.0,\"#f0f921\"]]}],\"heatmapgl\":[{\"type\":\"heatmapgl\",\"colorbar\":{\"outlinewidth\":0,\"ticks\":\"\"},\"colorscale\":[[0.0,\"#0d0887\"],[0.1111111111111111,\"#46039f\"],[0.2222222222222222,\"#7201a8\"],[0.3333333333333333,\"#9c179e\"],[0.4444444444444444,\"#bd3786\"],[0.5555555555555556,\"#d8576b\"],[0.6666666666666666,\"#ed7953\"],[0.7777777777777778,\"#fb9f3a\"],[0.8888888888888888,\"#fdca26\"],[1.0,\"#f0f921\"]]}],\"contourcarpet\":[{\"type\":\"contourcarpet\",\"colorbar\":{\"outlinewidth\":0,\"ticks\":\"\"}}],\"contour\":[{\"type\":\"contour\",\"colorbar\":{\"outlinewidth\":0,\"ticks\":\"\"},\"colorscale\":[[0.0,\"#0d0887\"],[0.1111111111111111,\"#46039f\"],[0.2222222222222222,\"#7201a8\"],[0.3333333333333333,\"#9c179e\"],[0.4444444444444444,\"#bd3786\"],[0.5555555555555556,\"#d8576b\"],[0.6666666666666666,\"#ed7953\"],[0.7777777777777778,\"#fb9f3a\"],[0.8888888888888888,\"#fdca26\"],[1.0,\"#f0f921\"]]}],\"surface\":[{\"type\":\"surface\",\"colorbar\":{\"outlinewidth\":0,\"ticks\":\"\"},\"colorscale\":[[0.0,\"#0d0887\"],[0.1111111111111111,\"#46039f\"],[0.2222222222222222,\"#7201a8\"],[0.3333333333333333,\"#9c179e\"],[0.4444444444444444,\"#bd3786\"],[0.5555555555555556,\"#d8576b\"],[0.6666666666666666,\"#ed7953\"],[0.7777777777777778,\"#fb9f3a\"],[0.8888888888888888,\"#fdca26\"],[1.0,\"#f0f921\"]]}],\"mesh3d\":[{\"type\":\"mesh3d\",\"colorbar\":{\"outlinewidth\":0,\"ticks\":\"\"}}],\"scatter\":[{\"fillpattern\":{\"fillmode\":\"overlay\",\"size\":10,\"solidity\":0.2},\"type\":\"scatter\"}],\"parcoords\":[{\"type\":\"parcoords\",\"line\":{\"colorbar\":{\"outlinewidth\":0,\"ticks\":\"\"}}}],\"scatterpolargl\":[{\"type\":\"scatterpolargl\",\"marker\":{\"colorbar\":{\"outlinewidth\":0,\"ticks\":\"\"}}}],\"bar\":[{\"error_x\":{\"color\":\"#2a3f5f\"},\"error_y\":{\"color\":\"#2a3f5f\"},\"marker\":{\"line\":{\"color\":\"#E5ECF6\",\"width\":0.5},\"pattern\":{\"fillmode\":\"overlay\",\"size\":10,\"solidity\":0.2}},\"type\":\"bar\"}],\"scattergeo\":[{\"type\":\"scattergeo\",\"marker\":{\"colorbar\":{\"outlinewidth\":0,\"ticks\":\"\"}}}],\"scatterpolar\":[{\"type\":\"scatterpolar\",\"marker\":{\"colorbar\":{\"outlinewidth\":0,\"ticks\":\"\"}}}],\"histogram\":[{\"marker\":{\"pattern\":{\"fillmode\":\"overlay\",\"size\":10,\"solidity\":0.2}},\"type\":\"histogram\"}],\"scattergl\":[{\"type\":\"scattergl\",\"marker\":{\"colorbar\":{\"outlinewidth\":0,\"ticks\":\"\"}}}],\"scatter3d\":[{\"type\":\"scatter3d\",\"line\":{\"colorbar\":{\"outlinewidth\":0,\"ticks\":\"\"}},\"marker\":{\"colorbar\":{\"outlinewidth\":0,\"ticks\":\"\"}}}],\"scattermapbox\":[{\"type\":\"scattermapbox\",\"marker\":{\"colorbar\":{\"outlinewidth\":0,\"ticks\":\"\"}}}],\"scatterternary\":[{\"type\":\"scatterternary\",\"marker\":{\"colorbar\":{\"outlinewidth\":0,\"ticks\":\"\"}}}],\"scattercarpet\":[{\"type\":\"scattercarpet\",\"marker\":{\"colorbar\":{\"outlinewidth\":0,\"ticks\":\"\"}}}],\"carpet\":[{\"aaxis\":{\"endlinecolor\":\"#2a3f5f\",\"gridcolor\":\"white\",\"linecolor\":\"white\",\"minorgridcolor\":\"white\",\"startlinecolor\":\"#2a3f5f\"},\"baxis\":{\"endlinecolor\":\"#2a3f5f\",\"gridcolor\":\"white\",\"linecolor\":\"white\",\"minorgridcolor\":\"white\",\"startlinecolor\":\"#2a3f5f\"},\"type\":\"carpet\"}],\"table\":[{\"cells\":{\"fill\":{\"color\":\"#EBF0F8\"},\"line\":{\"color\":\"white\"}},\"header\":{\"fill\":{\"color\":\"#C8D4E3\"},\"line\":{\"color\":\"white\"}},\"type\":\"table\"}],\"barpolar\":[{\"marker\":{\"line\":{\"color\":\"#E5ECF6\",\"width\":0.5},\"pattern\":{\"fillmode\":\"overlay\",\"size\":10,\"solidity\":0.2}},\"type\":\"barpolar\"}],\"pie\":[{\"automargin\":true,\"type\":\"pie\"}]},\"layout\":{\"autotypenumbers\":\"strict\",\"colorway\":[\"#636efa\",\"#EF553B\",\"#00cc96\",\"#ab63fa\",\"#FFA15A\",\"#19d3f3\",\"#FF6692\",\"#B6E880\",\"#FF97FF\",\"#FECB52\"],\"font\":{\"color\":\"#2a3f5f\"},\"hovermode\":\"closest\",\"hoverlabel\":{\"align\":\"left\"},\"paper_bgcolor\":\"white\",\"plot_bgcolor\":\"#E5ECF6\",\"polar\":{\"bgcolor\":\"#E5ECF6\",\"angularaxis\":{\"gridcolor\":\"white\",\"linecolor\":\"white\",\"ticks\":\"\"},\"radialaxis\":{\"gridcolor\":\"white\",\"linecolor\":\"white\",\"ticks\":\"\"}},\"ternary\":{\"bgcolor\":\"#E5ECF6\",\"aaxis\":{\"gridcolor\":\"white\",\"linecolor\":\"white\",\"ticks\":\"\"},\"baxis\":{\"gridcolor\":\"white\",\"linecolor\":\"white\",\"ticks\":\"\"},\"caxis\":{\"gridcolor\":\"white\",\"linecolor\":\"white\",\"ticks\":\"\"}},\"coloraxis\":{\"colorbar\":{\"outlinewidth\":0,\"ticks\":\"\"}},\"colorscale\":{\"sequential\":[[0.0,\"#0d0887\"],[0.1111111111111111,\"#46039f\"],[0.2222222222222222,\"#7201a8\"],[0.3333333333333333,\"#9c179e\"],[0.4444444444444444,\"#bd3786\"],[0.5555555555555556,\"#d8576b\"],[0.6666666666666666,\"#ed7953\"],[0.7777777777777778,\"#fb9f3a\"],[0.8888888888888888,\"#fdca26\"],[1.0,\"#f0f921\"]],\"sequentialminus\":[[0.0,\"#0d0887\"],[0.1111111111111111,\"#46039f\"],[0.2222222222222222,\"#7201a8\"],[0.3333333333333333,\"#9c179e\"],[0.4444444444444444,\"#bd3786\"],[0.5555555555555556,\"#d8576b\"],[0.6666666666666666,\"#ed7953\"],[0.7777777777777778,\"#fb9f3a\"],[0.8888888888888888,\"#fdca26\"],[1.0,\"#f0f921\"]],\"diverging\":[[0,\"#8e0152\"],[0.1,\"#c51b7d\"],[0.2,\"#de77ae\"],[0.3,\"#f1b6da\"],[0.4,\"#fde0ef\"],[0.5,\"#f7f7f7\"],[0.6,\"#e6f5d0\"],[0.7,\"#b8e186\"],[0.8,\"#7fbc41\"],[0.9,\"#4d9221\"],[1,\"#276419\"]]},\"xaxis\":{\"gridcolor\":\"white\",\"linecolor\":\"white\",\"ticks\":\"\",\"title\":{\"standoff\":15},\"zerolinecolor\":\"white\",\"automargin\":true,\"zerolinewidth\":2},\"yaxis\":{\"gridcolor\":\"white\",\"linecolor\":\"white\",\"ticks\":\"\",\"title\":{\"standoff\":15},\"zerolinecolor\":\"white\",\"automargin\":true,\"zerolinewidth\":2},\"scene\":{\"xaxis\":{\"backgroundcolor\":\"#E5ECF6\",\"gridcolor\":\"white\",\"linecolor\":\"white\",\"showbackground\":true,\"ticks\":\"\",\"zerolinecolor\":\"white\",\"gridwidth\":2},\"yaxis\":{\"backgroundcolor\":\"#E5ECF6\",\"gridcolor\":\"white\",\"linecolor\":\"white\",\"showbackground\":true,\"ticks\":\"\",\"zerolinecolor\":\"white\",\"gridwidth\":2},\"zaxis\":{\"backgroundcolor\":\"#E5ECF6\",\"gridcolor\":\"white\",\"linecolor\":\"white\",\"showbackground\":true,\"ticks\":\"\",\"zerolinecolor\":\"white\",\"gridwidth\":2}},\"shapedefaults\":{\"line\":{\"color\":\"#2a3f5f\"}},\"annotationdefaults\":{\"arrowcolor\":\"#2a3f5f\",\"arrowhead\":0,\"arrowwidth\":1},\"geo\":{\"bgcolor\":\"white\",\"landcolor\":\"#E5ECF6\",\"subunitcolor\":\"white\",\"showland\":true,\"showlakes\":true,\"lakecolor\":\"white\"},\"title\":{\"x\":0.05},\"mapbox\":{\"style\":\"light\"}}},\"xaxis\":{\"anchor\":\"y\",\"domain\":[0.0,1.0],\"title\":{\"text\":\"Month\"}},\"yaxis\":{\"anchor\":\"x\",\"domain\":[0.0,1.0],\"title\":{\"text\":\"Number of Articles\"}},\"legend\":{\"tracegroupgap\":0},\"title\":{\"text\":\"Distribution of Articles Month-wise\"},\"barmode\":\"relative\",\"width\":500,\"height\":500},                        {\"responsive\": true}                    ).then(function(){\n",
       "                            \n",
       "var gd = document.getElementById('6d564b8a-b062-4d6b-9abd-6219ce1fde05');\n",
       "var x = new MutationObserver(function (mutations, observer) {{\n",
       "        var display = window.getComputedStyle(gd).display;\n",
       "        if (!display || display === 'none') {{\n",
       "            console.log([gd, 'removed!']);\n",
       "            Plotly.purge(gd);\n",
       "            observer.disconnect();\n",
       "        }}\n",
       "}});\n",
       "\n",
       "// Listen for the removal of the full notebook cells\n",
       "var notebookContainer = gd.closest('#notebook-container');\n",
       "if (notebookContainer) {{\n",
       "    x.observe(notebookContainer, {childList: true});\n",
       "}}\n",
       "\n",
       "// Listen for the clearing of the current output cell\n",
       "var outputEl = gd.closest('.output');\n",
       "if (outputEl) {{\n",
       "    x.observe(outputEl, {childList: true});\n",
       "}}\n",
       "\n",
       "                        })                };                });            </script>        </div>"
      ]
     },
     "metadata": {},
     "output_type": "display_data"
    }
   ],
   "source": [
    "# Calculate the number of articles per month\n",
    "news_articles_per_month = news_articles.resample('M', on='date')['headline'].count()\n",
    "\n",
    "# Create a bar chart for the distribution of articles month-wise using Plotly Express\n",
    "# .strftime(\"%b\") is a method to format these month values into a more readable string format. %b is the format code for the abbreviated month name (e.g., 'Jan', 'Feb', 'Mar', etc.).\n",
    "fig = px.bar(news_articles_per_month, x=news_articles_per_month.index.strftime(\"%b\"), y='headline', \n",
    "             labels={'headline': 'Number of Articles', 'x': 'Month'}, \n",
    "             title='Distribution of Articles Month-wise')\n",
    "fig.update_layout(width=500, height=500)\n",
    "fig.show()"
   ]
  },
  {
   "cell_type": "code",
   "execution_count": 32,
   "metadata": {},
   "outputs": [
    {
     "name": "stdout",
     "output_type": "stream",
     "text": [
      "2018-01-01 00:00:00 2018-05-26 00:00:00\n"
     ]
    }
   ],
   "source": [
    "# print(news_articles['date'].min(), news_articles['date'].max())\n"
   ]
  },
  {
   "cell_type": "code",
   "execution_count": 33,
   "metadata": {
    "colab": {
     "base_uri": "https://localhost:8080/",
     "height": 517
    },
    "id": "inr7cbq3-6Ha",
    "outputId": "5b3c50ae-8ccb-4dcb-c40c-dd83a73ab483"
   },
   "outputs": [
    {
     "data": {
      "application/vnd.plotly.v1+json": {
       "config": {
        "plotlyServerURL": "https://plot.ly"
       },
       "data": [
        {
         "legendgroup": "Headline Length",
         "marker": {
          "color": "rgb(31, 119, 180)"
         },
         "mode": "lines",
         "name": "Headline Length",
         "showlegend": true,
         "type": "scatter",
         "x": [
          25,
          25.21,
          25.42,
          25.63,
          25.84,
          26.05,
          26.26,
          26.47,
          26.68,
          26.89,
          27.1,
          27.31,
          27.52,
          27.73,
          27.94,
          28.15,
          28.36,
          28.57,
          28.78,
          28.990000000000002,
          29.2,
          29.41,
          29.62,
          29.83,
          30.04,
          30.25,
          30.46,
          30.67,
          30.88,
          31.09,
          31.3,
          31.509999999999998,
          31.72,
          31.93,
          32.14,
          32.35,
          32.56,
          32.769999999999996,
          32.980000000000004,
          33.19,
          33.4,
          33.61,
          33.82,
          34.03,
          34.24,
          34.45,
          34.66,
          34.87,
          35.08,
          35.29,
          35.5,
          35.71,
          35.92,
          36.13,
          36.34,
          36.55,
          36.76,
          36.97,
          37.18,
          37.39,
          37.6,
          37.81,
          38.019999999999996,
          38.230000000000004,
          38.44,
          38.65,
          38.86,
          39.07,
          39.28,
          39.49,
          39.7,
          39.91,
          40.12,
          40.33,
          40.54,
          40.75,
          40.96,
          41.17,
          41.379999999999995,
          41.59,
          41.8,
          42.010000000000005,
          42.22,
          42.43,
          42.64,
          42.85,
          43.06,
          43.269999999999996,
          43.480000000000004,
          43.69,
          43.9,
          44.11,
          44.32,
          44.53,
          44.739999999999995,
          44.95,
          45.16,
          45.370000000000005,
          45.58,
          45.79,
          46,
          46.21,
          46.42,
          46.629999999999995,
          46.84,
          47.05,
          47.260000000000005,
          47.47,
          47.68,
          47.89,
          48.1,
          48.31,
          48.519999999999996,
          48.730000000000004,
          48.94,
          49.15,
          49.36,
          49.57,
          49.78,
          49.989999999999995,
          50.2,
          50.41,
          50.620000000000005,
          50.83,
          51.04,
          51.25,
          51.46,
          51.67,
          51.879999999999995,
          52.09,
          52.3,
          52.510000000000005,
          52.72,
          52.93,
          53.14,
          53.35,
          53.56,
          53.769999999999996,
          53.980000000000004,
          54.19,
          54.4,
          54.61,
          54.82,
          55.03,
          55.239999999999995,
          55.45,
          55.66,
          55.870000000000005,
          56.08,
          56.29,
          56.5,
          56.71,
          56.92,
          57.13,
          57.34,
          57.55,
          57.76,
          57.97,
          58.18,
          58.39,
          58.6,
          58.81,
          59.02,
          59.23,
          59.44,
          59.65,
          59.86,
          60.07,
          60.28,
          60.49,
          60.7,
          60.91,
          61.12,
          61.33,
          61.54,
          61.75,
          61.96,
          62.17,
          62.38,
          62.59,
          62.8,
          63.01,
          63.22,
          63.43,
          63.64,
          63.85,
          64.06,
          64.27000000000001,
          64.47999999999999,
          64.69,
          64.9,
          65.11,
          65.32,
          65.53,
          65.74000000000001,
          65.95,
          66.16,
          66.37,
          66.58,
          66.78999999999999,
          67,
          67.21000000000001,
          67.42,
          67.63,
          67.84,
          68.05,
          68.25999999999999,
          68.47,
          68.68,
          68.89,
          69.1,
          69.31,
          69.52000000000001,
          69.72999999999999,
          69.94,
          70.15,
          70.36,
          70.57,
          70.78,
          70.99000000000001,
          71.2,
          71.41,
          71.62,
          71.83,
          72.03999999999999,
          72.25,
          72.46000000000001,
          72.67,
          72.88,
          73.09,
          73.3,
          73.50999999999999,
          73.72,
          73.93,
          74.14,
          74.35,
          74.56,
          74.77000000000001,
          74.97999999999999,
          75.19,
          75.4,
          75.61,
          75.82,
          76.03,
          76.24000000000001,
          76.45,
          76.66,
          76.87,
          77.08,
          77.28999999999999,
          77.5,
          77.71000000000001,
          77.92,
          78.13,
          78.34,
          78.55,
          78.75999999999999,
          78.97,
          79.18,
          79.39,
          79.6,
          79.81,
          80.02000000000001,
          80.22999999999999,
          80.44,
          80.65,
          80.86,
          81.07,
          81.28,
          81.49000000000001,
          81.7,
          81.91,
          82.12,
          82.33,
          82.53999999999999,
          82.75,
          82.96000000000001,
          83.17,
          83.38,
          83.59,
          83.8,
          84.00999999999999,
          84.22,
          84.43,
          84.64,
          84.85,
          85.06,
          85.27000000000001,
          85.47999999999999,
          85.69,
          85.9,
          86.11,
          86.32,
          86.53,
          86.74000000000001,
          86.95,
          87.16,
          87.37,
          87.58,
          87.78999999999999,
          88,
          88.21000000000001,
          88.42,
          88.63,
          88.84,
          89.05,
          89.26,
          89.47,
          89.68,
          89.89,
          90.1,
          90.31,
          90.52,
          90.73,
          90.94,
          91.15,
          91.36,
          91.57,
          91.78,
          91.99,
          92.2,
          92.41,
          92.62,
          92.83,
          93.04,
          93.25,
          93.46,
          93.67,
          93.88,
          94.09,
          94.3,
          94.51,
          94.72,
          94.93,
          95.14,
          95.35,
          95.56,
          95.77,
          95.98,
          96.19,
          96.4,
          96.61,
          96.82,
          97.03,
          97.24,
          97.45,
          97.66,
          97.87,
          98.08,
          98.29,
          98.5,
          98.71,
          98.92,
          99.13,
          99.34,
          99.55,
          99.76,
          99.97,
          100.18,
          100.39,
          100.6,
          100.81,
          101.02,
          101.23,
          101.44,
          101.65,
          101.86,
          102.07,
          102.28,
          102.49,
          102.7,
          102.91,
          103.12,
          103.33,
          103.54,
          103.75,
          103.96,
          104.17,
          104.38,
          104.59,
          104.8,
          105.01,
          105.22,
          105.43,
          105.64,
          105.85,
          106.06,
          106.27,
          106.48,
          106.69,
          106.9,
          107.11,
          107.32,
          107.53,
          107.74,
          107.95,
          108.16,
          108.37,
          108.58,
          108.79,
          109,
          109.21,
          109.42,
          109.63,
          109.84,
          110.05,
          110.26,
          110.47,
          110.68,
          110.89,
          111.1,
          111.31,
          111.52,
          111.73,
          111.94,
          112.15,
          112.36,
          112.57,
          112.78,
          112.99,
          113.2,
          113.41,
          113.62,
          113.83,
          114.04,
          114.25,
          114.46,
          114.67,
          114.88,
          115.09,
          115.3,
          115.51,
          115.72,
          115.93,
          116.14,
          116.35,
          116.56,
          116.77,
          116.98,
          117.19,
          117.4,
          117.61,
          117.82,
          118.03,
          118.24,
          118.45,
          118.66,
          118.87,
          119.08,
          119.29,
          119.5,
          119.71,
          119.92,
          120.13,
          120.34,
          120.55,
          120.76,
          120.97,
          121.18,
          121.39,
          121.6,
          121.81,
          122.02,
          122.23,
          122.44,
          122.65,
          122.86,
          123.07,
          123.28,
          123.49,
          123.7,
          123.91,
          124.12,
          124.33,
          124.54,
          124.75,
          124.96,
          125.17,
          125.38,
          125.59,
          125.8,
          126.01,
          126.22,
          126.43,
          126.64,
          126.85,
          127.06,
          127.27,
          127.48,
          127.69,
          127.9,
          128.11,
          128.32,
          128.53,
          128.74,
          128.95,
          129.16,
          129.37,
          129.57999999999998,
          129.79000000000002
         ],
         "xaxis": "x",
         "y": [
          9.761758669784216e-05,
          0.000103258311649211,
          0.00010843298459129334,
          0.00011313553202672725,
          0.0001173955470529459,
          0.0001212781925078284,
          0.00012488160912757542,
          0.00012833195525104211,
          0.000131776431890148,
          0.000135374848979986,
          0.00013929044182645794,
          0.00014368073236925094,
          0.00014868923626863324,
          0.00015443874126447917,
          0.0001610267314029251,
          0.00016852332096544401,
          0.0001769718135866437,
          0.00018639174269529765,
          0.00019678400672695851,
          0.00020813751202780864,
          0.00022043659839849906,
          0.0002336684599219526,
          0.0002478297916632701,
          0.00026293198692463175,
          0.0002790043680859116,
          0.0002960951387077446,
          0.000314269973828491,
          0.0003336083963901051,
          0.00035419829891592864,
          0.0003761291427337991,
          0.0003994844888055328,
          0.0004243345767575596,
          0.00045072966975756774,
          0.0004786948252114163,
          0.0005082266416629172,
          0.0005392923804376618,
          0.0005718316778924333,
          0.00060576086283062,
          0.0006409796861002964,
          0.0006773800678026505,
          0.0007148562837941953,
          0.000753315858812326,
          0.0007926903196818826,
          0.0008329448989887288,
          0.0008740862762707708,
          0.0009161675068253704,
          0.0009592894209217591,
          0.0010035979772622108,
          0.0010492773171879226,
          0.0010965385775688302,
          0.001145604861744899,
          0.0011966931152622192,
          0.0012499939786775156,
          0.0013056509639736585,
          0.001363740495669,
          0.0014242544477831745,
          0.0014870867751478564,
          0.0015520256726165276,
          0.0016187523995630324,
          0.0016868474921832859,
          0.0017558045765632023,
          0.0018250514258213702,
          0.0018939773179972453,
          0.001961965196437053,
          0.0020284266617053392,
          0.002092837481302813,
          0.0021547711309929524,
          0.0022139279074071963,
          0.002270157387533107,
          0.002323472449087527,
          0.002374053678455384,
          0.002422243731984752,
          0.002468532017805123,
          0.0025135308541624217,
          0.0025579449587033796,
          0.002602536659068421,
          0.0026480895309619517,
          0.002695373230119136,
          0.0027451120812464953,
          0.0027979595414514453,
          0.002854480016790907,
          0.002915138749240911,
          0.0029802996917890805,
          0.003050230538427784,
          0.0031251134523838445,
          0.003205059600984125,
          0.003290125395406738,
          0.0033803283564296242,
          0.00347566076405221,
          0.0035760996575329882,
          0.0036816122753240673,
          0.003792156597115529,
          0.0039076772101853405,
          0.004028097216372338,
          0.004153307285671965,
          0.004283153225892794,
          0.0044174235694275695,
          0.0045558386856864525,
          0.0046980428278152585,
          0.004843600335852874,
          0.0049919969663395885,
          0.005142647018395629,
          0.0052949065919709205,
          0.005448092954861867,
          0.005601509618588826,
          0.005754476337090156,
          0.0059063628573417055,
          0.006056624883658043,
          0.006204840390061589,
          0.006350744155946917,
          0.0064942582410449584,
          0.0066355160879538804,
          0.006774878070925842,
          0.006912936614930873,
          0.007050509491609031,
          0.007188620543307836,
          0.0073284678589321415,
          0.0074713802742676005,
          0.007618763929571067,
          0.007772041415647759,
          0.007932586703422607,
          0.00810165951621972,
          0.00828034301926153,
          0.008469488639556811,
          0.008669671488645926,
          0.008881159263509379,
          0.009103896693224572,
          0.009337506644419978,
          0.009581307971816765,
          0.009834349178494831,
          0.010095456006559382,
          0.010363290273910168,
          0.01063641665249746,
          0.010913373675907537,
          0.01119274508037856,
          0.011473227619748587,
          0.011753691736740013,
          0.012033231898754593,
          0.012311203990691348,
          0.012587247873389468,
          0.012861294036194047,
          0.013133554165455199,
          0.013404496382548866,
          0.013674806832988098,
          0.013945340181458873,
          0.01421706232659707,
          0.014490989229298427,
          0.014768126084912524,
          0.015049411107787541,
          0.015335667900042557,
          0.01562756973753831,
          0.015925618152835837,
          0.01623013699422782,
          0.01654128179439619,
          0.01685906292196714,
          0.017183379756984172,
          0.01751406216476918,
          0.0178509149549054,
          0.018193760874127433,
          0.018542478010862902,
          0.018897028242756044,
          0.019257474439761897,
          0.019623985404988987,
          0.01999682883107281,
          0.020376353710116736,
          0.020762964522700014,
          0.021157090052918177,
          0.02155914979521067,
          0.021969520658673723,
          0.02238850611339661,
          0.022816309178479464,
          0.023253009859075136,
          0.023698546932378096,
          0.024152703467160325,
          0.024615095204686153,
          0.025085160947010226,
          0.025562154360057203,
          0.02604513703087116,
          0.026532973123543475,
          0.027024326452205292,
          0.027517661139171583,
          0.028011247185319846,
          0.028503172217299567,
          0.02899136039936768,
          0.029473599046850825,
          0.029947572917581912,
          0.030410905560710123,
          0.030861206540216166,
          0.03129612287941678,
          0.03171339272826942,
          0.03211089905005894,
          0.03248672105222605,
          0.032839181129577705,
          0.033166885226411064,
          0.0334687547411667,
          0.03374404838727117,
          0.03399237279135962,
          0.0342136810662473,
          0.034408259150692976,
          0.0345767003614133,
          0.03471986933513384,
          0.03483885730674177,
          0.03493493140502936,
          0.0350094812630072,
          0.03506396663960564,
          0.03509986984600635,
          0.03511865649855077,
          0.035121747456738336,
          0.0351105037738001,
          0.03508622516799566,
          0.03505016104215005,
          0.035003531601868074,
          0.034947555330075576,
          0.034883478141827504,
          0.034812599111199764,
          0.034736287820742,
          0.034655989151915145,
          0.03457321265351127,
          0.03448950536042658,
          0.03440640889251258,
          0.03432540360930416,
          0.034247844289144506,
          0.034174893021948566,
          0.03410745558923771,
          0.03404612746690087,
          0.033991154731796064,
          0.03394241368298548,
          0.03389941108406673,
          0.03386130483422575,
          0.03382694284662253,
          0.03379491620530142,
          0.03376362149019944,
          0.033731326632325136,
          0.033696234822440385,
          0.03365654178638818,
          0.033610483012862104,
          0.033556369069903454,
          0.03349260874166534,
          0.03341772113261218,
          0.03333033894003965,
          0.03322920567349602,
          0.03311316966962136,
          0.03298117736471207,
          0.032832267567159415,
          0.032665567586964185,
          0.032480291215573893,
          0.03227573787612262,
          0.03205129190723125,
          0.03180642096274917,
          0.03154067289115729,
          0.031253671116212974,
          0.030945109334100846,
          0.030614747099713027,
          0.030262408423060872,
          0.02988798569191835,
          0.029491450989890432,
          0.029072876172375896,
          0.028632461957088302,
          0.028170574912188967,
          0.02768778976924836,
          0.02718493316267185,
          0.026663123911577397,
          0.02612380448881407,
          0.025568758478218864,
          0.02500010963834793,
          0.024420299614258196,
          0.02383204323049362,
          0.023238262453393624,
          0.022642002282646515,
          0.022046333764415,
          0.021454250778175542,
          0.02086856805749316,
          0.02029182795875857,
          0.019726222779095852,
          0.01917353802408051,
          0.01863512009661785,
          0.01811186963905922,
          0.01760425946131931,
          0.01711237387838606,
          0.016635964581261767,
          0.01617451704070555,
          0.015727320985906283,
          0.015293538723397265,
          0.014872265901823105,
          0.014462580657378767,
          0.01406357871899215,
          0.013674393814412268,
          0.013294204402022267,
          0.012922229184205224,
          0.012557714902304043,
          0.012199920487473351,
          0.01184810171905024,
          0.011501500149802694,
          0.011159339269713029,
          0.010820829806407611,
          0.01048518483123797,
          0.010151644091769387,
          0.00981950585187486,
          0.009488163597470248,
          0.00915714433784644,
          0.008826144944319936,
          0.008495063029400122,
          0.00816401925793787,
          0.007833368646307605,
          0.007503699275446272,
          0.007175817834576051,
          0.006850722436117798,
          0.0065295641127637175,
          0.0062135992484505026,
          0.0059041358437984985,
          0.00560247692953823,
          0.005309864594709144,
          0.005027427987457297,
          0.004756138292900911,
          0.004496773131135146,
          0.004249892100583123,
          0.004015824379964525,
          0.003794668464052731,
          0.003586303311658662,
          0.003390409490132139,
          0.003206498358536446,
          0.0030339469748069787,
          0.0028720362550547747,
          0.002719989950545623,
          0.0025770122165797325,
          0.002442321889809447,
          0.0023151820195234383,
          0.0021949236640659243,
          0.0020809634189888565,
          0.001972814550606319,
          0.0018700919417583251,
          0.0017725113046804719,
          0.001679883281690652,
          0.0015921031519891935,
          0.0015091369132185237,
          0.0014310045323554657,
          0.001357761181606243,
          0.0012894773035462567,
          0.0012262183884862584,
          0.0011680253887523056,
          0.0011148967240168176,
          0.0010667728292998195,
          0.0010235241431301408,
          0.0009849433127080169,
          0.0009507421994354601,
          0.0009205540065175164,
          0.0008939405364246976,
          0.0008704042453884991,
          0.00084940442649988,
          0.000830376555756288,
          0.0008127536067379002,
          0.0007959880022272292,
          0.0007795728373271605,
          0.0007630610790948518,
          0.0007460816118815329,
          0.0007283512360024451,
          0.0007096820149666256,
          0.0006899836763023683,
          0.000669261077688124,
          0.0006476070326815693,
          0.0006251910337996196,
          0.0006022446062442183,
          0.0005790441698250854,
          0.0005558923801139221,
          0.0005330989651360311,
          0.0005109620739265169,
          0.0004897511103212768,
          0.0004696919406688827,
          0.0004509552384143407,
          0.00043364856286476697,
          0.0004178125668635544,
          0.0004034214946307102,
          0.00039038787667853095,
          0.0003785710676039565,
          0.0003677890222683074,
          0.0003578324859798897,
          0.0003484806043063454,
          0.0003395168551154127,
          0.0003307441816369016,
          0.0003219982663137073,
          0.00031315802865765986,
          0.00030415264586637804,
          0.00029496466495826997,
          0.0002856290765215269,
          0.00027622852670533126,
          0.0002668851294829004,
          0.0002577495818025017,
          0.0002489884613882925,
          0.0002407706887933598,
          0.00023325415753354197,
          0.0002265734818276416,
          0.0002208296901033351,
          0.00021608251820252598,
          0.00021234574611184927,
          0.0002095857938333595,
          0.00020772356259108325,
          0.0002066392917341682,
          0.00020618001147839013,
          0.00020616901614971904,
          0.00020641666830967283,
          0.00020673177525479147,
          0.0002069327582488495,
          0.00020685786220387122,
          0.00020637372845135488,
          0.00020538177285252932,
          0.00020382197047437556,
          0.00020167383821166236,
          0.00019895461673475327,
          0.00019571486866377404,
          0.00019203191425218246,
          0.00018800170132821054,
          0.0001837298355934203,
          0.00017932256599836435,
          0.00017487851780949778,
          0.00017048188952760806,
          0.0001661976829356388,
          0.00016206933002503699,
          0.000158118835347016,
          0.000154349291945613,
          0.00015074938091707597,
          0.00014729925612926812,
          0.00014397707060405846,
          0.00014076533689631472,
          0.00013765633901229304,
          0.00013465592632291455,
          0.00013178520860665822,
          0.0001290799148395765,
          0.00012658744905577637,
          0.0001243619436129862,
          0.00012245784298956755,
          0.00012092272337107176,
          0.00011979014557421564,
          0.00011907334162947703,
          0.00011876044947758088,
          0.00011881184688309105,
          0.00011915991472134363,
          0.0001197113073035333,
          0.00012035155230739864,
          0.00012095157346921191,
          0.00012137554976341166,
          0.00012148941290546438,
          0.00012116924966130132,
          0.0001203089163900309,
          0.00011882628149137469,
          0.00011666767079289519,
          0.00011381028041287311,
          0.000110262518358825,
          0.00010606241816603059,
          0.00010127441697416724,
          9.59848939085004e-05,
          9.029691647679634e-05,
          8.432464370171436e-05,
          7.818779165261037e-05,
          7.200649115269522e-05,
          6.589677244719058e-05,
          5.996681167179182e-05,
          5.431398173119908e-05,
          4.902267543072438e-05,
          4.4162817353004847e-05,
          3.978895496053216e-05,
          3.593981696316503e-05,
          3.263824342931066e-05,
          2.9891420870576297e-05,
          2.7691389264436866e-05,
          2.6015819659715525e-05,
          2.4829084747520727e-05,
          2.4083656444045934e-05,
          2.3721862075966834e-05,
          2.3678014290322133e-05,
          2.3880901419585173e-05,
          2.4256588437258216e-05,
          2.473143868400461e-05,
          2.5235228603752337e-05,
          2.570419707135937e-05,
          2.6083852059998872e-05,
          2.6331353663338648e-05,
          2.6417305467678375e-05,
          2.6326815708541093e-05,
          2.6059733445391764e-05,
          2.5630019450378103e-05,
          2.506427178100786e-05,
          2.4399486661652852e-05,
          2.368019094674083e-05,
          2.2955128313723483e-05,
          2.227371374971389e-05,
          2.1682487525219895e-05,
          2.1221799811869416e-05,
          2.092294087816003e-05,
          2.0805901013436456e-05,
          2.0877901479781933e-05,
          2.1132785959737763e-05,
          2.155130459752397e-05,
          2.2102263451051488e-05,
          2.2744454675241194e-05,
          2.34292307027276e-05,
          2.4103542578252976e-05,
          2.4713231607993515e-05,
          2.5206347199808904e-05,
          2.5536263922106548e-05,
          2.566438795877804e-05
         ],
         "yaxis": "y"
        }
       ],
       "layout": {
        "barmode": "overlay",
        "height": 500,
        "hovermode": "closest",
        "legend": {
         "traceorder": "reversed"
        },
        "showlegend": false,
        "template": {
         "data": {
          "bar": [
           {
            "error_x": {
             "color": "#2a3f5f"
            },
            "error_y": {
             "color": "#2a3f5f"
            },
            "marker": {
             "line": {
              "color": "#E5ECF6",
              "width": 0.5
             },
             "pattern": {
              "fillmode": "overlay",
              "size": 10,
              "solidity": 0.2
             }
            },
            "type": "bar"
           }
          ],
          "barpolar": [
           {
            "marker": {
             "line": {
              "color": "#E5ECF6",
              "width": 0.5
             },
             "pattern": {
              "fillmode": "overlay",
              "size": 10,
              "solidity": 0.2
             }
            },
            "type": "barpolar"
           }
          ],
          "carpet": [
           {
            "aaxis": {
             "endlinecolor": "#2a3f5f",
             "gridcolor": "white",
             "linecolor": "white",
             "minorgridcolor": "white",
             "startlinecolor": "#2a3f5f"
            },
            "baxis": {
             "endlinecolor": "#2a3f5f",
             "gridcolor": "white",
             "linecolor": "white",
             "minorgridcolor": "white",
             "startlinecolor": "#2a3f5f"
            },
            "type": "carpet"
           }
          ],
          "choropleth": [
           {
            "colorbar": {
             "outlinewidth": 0,
             "ticks": ""
            },
            "type": "choropleth"
           }
          ],
          "contour": [
           {
            "colorbar": {
             "outlinewidth": 0,
             "ticks": ""
            },
            "colorscale": [
             [
              0,
              "#0d0887"
             ],
             [
              0.1111111111111111,
              "#46039f"
             ],
             [
              0.2222222222222222,
              "#7201a8"
             ],
             [
              0.3333333333333333,
              "#9c179e"
             ],
             [
              0.4444444444444444,
              "#bd3786"
             ],
             [
              0.5555555555555556,
              "#d8576b"
             ],
             [
              0.6666666666666666,
              "#ed7953"
             ],
             [
              0.7777777777777778,
              "#fb9f3a"
             ],
             [
              0.8888888888888888,
              "#fdca26"
             ],
             [
              1,
              "#f0f921"
             ]
            ],
            "type": "contour"
           }
          ],
          "contourcarpet": [
           {
            "colorbar": {
             "outlinewidth": 0,
             "ticks": ""
            },
            "type": "contourcarpet"
           }
          ],
          "heatmap": [
           {
            "colorbar": {
             "outlinewidth": 0,
             "ticks": ""
            },
            "colorscale": [
             [
              0,
              "#0d0887"
             ],
             [
              0.1111111111111111,
              "#46039f"
             ],
             [
              0.2222222222222222,
              "#7201a8"
             ],
             [
              0.3333333333333333,
              "#9c179e"
             ],
             [
              0.4444444444444444,
              "#bd3786"
             ],
             [
              0.5555555555555556,
              "#d8576b"
             ],
             [
              0.6666666666666666,
              "#ed7953"
             ],
             [
              0.7777777777777778,
              "#fb9f3a"
             ],
             [
              0.8888888888888888,
              "#fdca26"
             ],
             [
              1,
              "#f0f921"
             ]
            ],
            "type": "heatmap"
           }
          ],
          "heatmapgl": [
           {
            "colorbar": {
             "outlinewidth": 0,
             "ticks": ""
            },
            "colorscale": [
             [
              0,
              "#0d0887"
             ],
             [
              0.1111111111111111,
              "#46039f"
             ],
             [
              0.2222222222222222,
              "#7201a8"
             ],
             [
              0.3333333333333333,
              "#9c179e"
             ],
             [
              0.4444444444444444,
              "#bd3786"
             ],
             [
              0.5555555555555556,
              "#d8576b"
             ],
             [
              0.6666666666666666,
              "#ed7953"
             ],
             [
              0.7777777777777778,
              "#fb9f3a"
             ],
             [
              0.8888888888888888,
              "#fdca26"
             ],
             [
              1,
              "#f0f921"
             ]
            ],
            "type": "heatmapgl"
           }
          ],
          "histogram": [
           {
            "marker": {
             "pattern": {
              "fillmode": "overlay",
              "size": 10,
              "solidity": 0.2
             }
            },
            "type": "histogram"
           }
          ],
          "histogram2d": [
           {
            "colorbar": {
             "outlinewidth": 0,
             "ticks": ""
            },
            "colorscale": [
             [
              0,
              "#0d0887"
             ],
             [
              0.1111111111111111,
              "#46039f"
             ],
             [
              0.2222222222222222,
              "#7201a8"
             ],
             [
              0.3333333333333333,
              "#9c179e"
             ],
             [
              0.4444444444444444,
              "#bd3786"
             ],
             [
              0.5555555555555556,
              "#d8576b"
             ],
             [
              0.6666666666666666,
              "#ed7953"
             ],
             [
              0.7777777777777778,
              "#fb9f3a"
             ],
             [
              0.8888888888888888,
              "#fdca26"
             ],
             [
              1,
              "#f0f921"
             ]
            ],
            "type": "histogram2d"
           }
          ],
          "histogram2dcontour": [
           {
            "colorbar": {
             "outlinewidth": 0,
             "ticks": ""
            },
            "colorscale": [
             [
              0,
              "#0d0887"
             ],
             [
              0.1111111111111111,
              "#46039f"
             ],
             [
              0.2222222222222222,
              "#7201a8"
             ],
             [
              0.3333333333333333,
              "#9c179e"
             ],
             [
              0.4444444444444444,
              "#bd3786"
             ],
             [
              0.5555555555555556,
              "#d8576b"
             ],
             [
              0.6666666666666666,
              "#ed7953"
             ],
             [
              0.7777777777777778,
              "#fb9f3a"
             ],
             [
              0.8888888888888888,
              "#fdca26"
             ],
             [
              1,
              "#f0f921"
             ]
            ],
            "type": "histogram2dcontour"
           }
          ],
          "mesh3d": [
           {
            "colorbar": {
             "outlinewidth": 0,
             "ticks": ""
            },
            "type": "mesh3d"
           }
          ],
          "parcoords": [
           {
            "line": {
             "colorbar": {
              "outlinewidth": 0,
              "ticks": ""
             }
            },
            "type": "parcoords"
           }
          ],
          "pie": [
           {
            "automargin": true,
            "type": "pie"
           }
          ],
          "scatter": [
           {
            "fillpattern": {
             "fillmode": "overlay",
             "size": 10,
             "solidity": 0.2
            },
            "type": "scatter"
           }
          ],
          "scatter3d": [
           {
            "line": {
             "colorbar": {
              "outlinewidth": 0,
              "ticks": ""
             }
            },
            "marker": {
             "colorbar": {
              "outlinewidth": 0,
              "ticks": ""
             }
            },
            "type": "scatter3d"
           }
          ],
          "scattercarpet": [
           {
            "marker": {
             "colorbar": {
              "outlinewidth": 0,
              "ticks": ""
             }
            },
            "type": "scattercarpet"
           }
          ],
          "scattergeo": [
           {
            "marker": {
             "colorbar": {
              "outlinewidth": 0,
              "ticks": ""
             }
            },
            "type": "scattergeo"
           }
          ],
          "scattergl": [
           {
            "marker": {
             "colorbar": {
              "outlinewidth": 0,
              "ticks": ""
             }
            },
            "type": "scattergl"
           }
          ],
          "scattermapbox": [
           {
            "marker": {
             "colorbar": {
              "outlinewidth": 0,
              "ticks": ""
             }
            },
            "type": "scattermapbox"
           }
          ],
          "scatterpolar": [
           {
            "marker": {
             "colorbar": {
              "outlinewidth": 0,
              "ticks": ""
             }
            },
            "type": "scatterpolar"
           }
          ],
          "scatterpolargl": [
           {
            "marker": {
             "colorbar": {
              "outlinewidth": 0,
              "ticks": ""
             }
            },
            "type": "scatterpolargl"
           }
          ],
          "scatterternary": [
           {
            "marker": {
             "colorbar": {
              "outlinewidth": 0,
              "ticks": ""
             }
            },
            "type": "scatterternary"
           }
          ],
          "surface": [
           {
            "colorbar": {
             "outlinewidth": 0,
             "ticks": ""
            },
            "colorscale": [
             [
              0,
              "#0d0887"
             ],
             [
              0.1111111111111111,
              "#46039f"
             ],
             [
              0.2222222222222222,
              "#7201a8"
             ],
             [
              0.3333333333333333,
              "#9c179e"
             ],
             [
              0.4444444444444444,
              "#bd3786"
             ],
             [
              0.5555555555555556,
              "#d8576b"
             ],
             [
              0.6666666666666666,
              "#ed7953"
             ],
             [
              0.7777777777777778,
              "#fb9f3a"
             ],
             [
              0.8888888888888888,
              "#fdca26"
             ],
             [
              1,
              "#f0f921"
             ]
            ],
            "type": "surface"
           }
          ],
          "table": [
           {
            "cells": {
             "fill": {
              "color": "#EBF0F8"
             },
             "line": {
              "color": "white"
             }
            },
            "header": {
             "fill": {
              "color": "#C8D4E3"
             },
             "line": {
              "color": "white"
             }
            },
            "type": "table"
           }
          ]
         },
         "layout": {
          "annotationdefaults": {
           "arrowcolor": "#2a3f5f",
           "arrowhead": 0,
           "arrowwidth": 1
          },
          "autotypenumbers": "strict",
          "coloraxis": {
           "colorbar": {
            "outlinewidth": 0,
            "ticks": ""
           }
          },
          "colorscale": {
           "diverging": [
            [
             0,
             "#8e0152"
            ],
            [
             0.1,
             "#c51b7d"
            ],
            [
             0.2,
             "#de77ae"
            ],
            [
             0.3,
             "#f1b6da"
            ],
            [
             0.4,
             "#fde0ef"
            ],
            [
             0.5,
             "#f7f7f7"
            ],
            [
             0.6,
             "#e6f5d0"
            ],
            [
             0.7,
             "#b8e186"
            ],
            [
             0.8,
             "#7fbc41"
            ],
            [
             0.9,
             "#4d9221"
            ],
            [
             1,
             "#276419"
            ]
           ],
           "sequential": [
            [
             0,
             "#0d0887"
            ],
            [
             0.1111111111111111,
             "#46039f"
            ],
            [
             0.2222222222222222,
             "#7201a8"
            ],
            [
             0.3333333333333333,
             "#9c179e"
            ],
            [
             0.4444444444444444,
             "#bd3786"
            ],
            [
             0.5555555555555556,
             "#d8576b"
            ],
            [
             0.6666666666666666,
             "#ed7953"
            ],
            [
             0.7777777777777778,
             "#fb9f3a"
            ],
            [
             0.8888888888888888,
             "#fdca26"
            ],
            [
             1,
             "#f0f921"
            ]
           ],
           "sequentialminus": [
            [
             0,
             "#0d0887"
            ],
            [
             0.1111111111111111,
             "#46039f"
            ],
            [
             0.2222222222222222,
             "#7201a8"
            ],
            [
             0.3333333333333333,
             "#9c179e"
            ],
            [
             0.4444444444444444,
             "#bd3786"
            ],
            [
             0.5555555555555556,
             "#d8576b"
            ],
            [
             0.6666666666666666,
             "#ed7953"
            ],
            [
             0.7777777777777778,
             "#fb9f3a"
            ],
            [
             0.8888888888888888,
             "#fdca26"
            ],
            [
             1,
             "#f0f921"
            ]
           ]
          },
          "colorway": [
           "#636efa",
           "#EF553B",
           "#00cc96",
           "#ab63fa",
           "#FFA15A",
           "#19d3f3",
           "#FF6692",
           "#B6E880",
           "#FF97FF",
           "#FECB52"
          ],
          "font": {
           "color": "#2a3f5f"
          },
          "geo": {
           "bgcolor": "white",
           "lakecolor": "white",
           "landcolor": "#E5ECF6",
           "showlakes": true,
           "showland": true,
           "subunitcolor": "white"
          },
          "hoverlabel": {
           "align": "left"
          },
          "hovermode": "closest",
          "mapbox": {
           "style": "light"
          },
          "paper_bgcolor": "white",
          "plot_bgcolor": "#E5ECF6",
          "polar": {
           "angularaxis": {
            "gridcolor": "white",
            "linecolor": "white",
            "ticks": ""
           },
           "bgcolor": "#E5ECF6",
           "radialaxis": {
            "gridcolor": "white",
            "linecolor": "white",
            "ticks": ""
           }
          },
          "scene": {
           "xaxis": {
            "backgroundcolor": "#E5ECF6",
            "gridcolor": "white",
            "gridwidth": 2,
            "linecolor": "white",
            "showbackground": true,
            "ticks": "",
            "zerolinecolor": "white"
           },
           "yaxis": {
            "backgroundcolor": "#E5ECF6",
            "gridcolor": "white",
            "gridwidth": 2,
            "linecolor": "white",
            "showbackground": true,
            "ticks": "",
            "zerolinecolor": "white"
           },
           "zaxis": {
            "backgroundcolor": "#E5ECF6",
            "gridcolor": "white",
            "gridwidth": 2,
            "linecolor": "white",
            "showbackground": true,
            "ticks": "",
            "zerolinecolor": "white"
           }
          },
          "shapedefaults": {
           "line": {
            "color": "#2a3f5f"
           }
          },
          "ternary": {
           "aaxis": {
            "gridcolor": "white",
            "linecolor": "white",
            "ticks": ""
           },
           "baxis": {
            "gridcolor": "white",
            "linecolor": "white",
            "ticks": ""
           },
           "bgcolor": "#E5ECF6",
           "caxis": {
            "gridcolor": "white",
            "linecolor": "white",
            "ticks": ""
           }
          },
          "title": {
           "x": 0.05
          },
          "xaxis": {
           "automargin": true,
           "gridcolor": "white",
           "linecolor": "white",
           "ticks": "",
           "title": {
            "standoff": 15
           },
           "zerolinecolor": "white",
           "zerolinewidth": 2
          },
          "yaxis": {
           "automargin": true,
           "gridcolor": "white",
           "linecolor": "white",
           "ticks": "",
           "title": {
            "standoff": 15
           },
           "zerolinecolor": "white",
           "zerolinewidth": 2
          }
         }
        },
        "title": {
         "text": "Distribution of Headline Lengths"
        },
        "width": 500,
        "xaxis": {
         "anchor": "y2",
         "autorange": true,
         "domain": [
          0,
          1
         ],
         "range": [
          25,
          129.79000000000002
         ],
         "title": {
          "text": "Length of a Headline"
         },
         "type": "linear",
         "zeroline": false
        },
        "yaxis": {
         "anchor": "free",
         "autorange": true,
         "domain": [
          0,
          1
         ],
         "position": 0,
         "range": [
          -0.001929246407637947,
          0.03707179976538972
         ],
         "title": {
          "text": "Probability"
         },
         "type": "linear"
        }
       }
      },
      "image/png": "[encoded data removed]",
      "text/html": [
       "<div>                            <div id=\"15ff3799-bd73-4281-807f-96f4cdc505b0\" class=\"plotly-graph-div\" style=\"height:500px; width:500px;\"></div>            <script type=\"text/javascript\">                require([\"plotly\"], function(Plotly) {                    window.PLOTLYENV=window.PLOTLYENV || {};                                    if (document.getElementById(\"15ff3799-bd73-4281-807f-96f4cdc505b0\")) {                    Plotly.newPlot(                        \"15ff3799-bd73-4281-807f-96f4cdc505b0\",                        [{\"legendgroup\":\"Headline Length\",\"marker\":{\"color\":\"rgb(31, 119, 180)\"},\"mode\":\"lines\",\"name\":\"Headline Length\",\"showlegend\":true,\"x\":[25.0,25.21,25.42,25.63,25.84,26.05,26.26,26.47,26.68,26.89,27.1,27.31,27.52,27.73,27.94,28.15,28.36,28.57,28.78,28.990000000000002,29.2,29.41,29.62,29.83,30.04,30.25,30.46,30.67,30.88,31.09,31.3,31.509999999999998,31.72,31.93,32.14,32.35,32.56,32.769999999999996,32.980000000000004,33.19,33.4,33.61,33.82,34.03,34.24,34.45,34.66,34.87,35.08,35.29,35.5,35.71,35.92,36.13,36.34,36.55,36.76,36.97,37.18,37.39,37.6,37.81,38.019999999999996,38.230000000000004,38.44,38.65,38.86,39.07,39.28,39.49,39.7,39.91,40.12,40.33,40.54,40.75,40.96,41.17,41.379999999999995,41.59,41.8,42.010000000000005,42.22,42.43,42.64,42.85,43.06,43.269999999999996,43.480000000000004,43.69,43.9,44.11,44.32,44.53,44.739999999999995,44.95,45.16,45.370000000000005,45.58,45.79,46.0,46.21,46.42,46.629999999999995,46.84,47.05,47.260000000000005,47.47,47.68,47.89,48.1,48.31,48.519999999999996,48.730000000000004,48.94,49.15,49.36,49.57,49.78,49.989999999999995,50.2,50.41,50.620000000000005,50.83,51.04,51.25,51.46,51.67,51.879999999999995,52.09,52.3,52.510000000000005,52.72,52.93,53.14,53.35,53.56,53.769999999999996,53.980000000000004,54.19,54.4,54.61,54.82,55.03,55.239999999999995,55.45,55.66,55.870000000000005,56.08,56.29,56.5,56.71,56.92,57.13,57.34,57.55,57.76,57.97,58.18,58.39,58.6,58.81,59.02,59.23,59.44,59.65,59.86,60.07,60.28,60.49,60.7,60.91,61.12,61.33,61.54,61.75,61.96,62.17,62.38,62.59,62.8,63.01,63.22,63.43,63.64,63.85,64.06,64.27000000000001,64.47999999999999,64.69,64.9,65.11,65.32,65.53,65.74000000000001,65.95,66.16,66.37,66.58,66.78999999999999,67.0,67.21000000000001,67.42,67.63,67.84,68.05,68.25999999999999,68.47,68.68,68.89,69.1,69.31,69.52000000000001,69.72999999999999,69.94,70.15,70.36,70.57,70.78,70.99000000000001,71.2,71.41,71.62,71.83,72.03999999999999,72.25,72.46000000000001,72.67,72.88,73.09,73.3,73.50999999999999,73.72,73.93,74.14,74.35,74.56,74.77000000000001,74.97999999999999,75.19,75.4,75.61,75.82,76.03,76.24000000000001,76.45,76.66,76.87,77.08,77.28999999999999,77.5,77.71000000000001,77.92,78.13,78.34,78.55,78.75999999999999,78.97,79.18,79.39,79.6,79.81,80.02000000000001,80.22999999999999,80.44,80.65,80.86,81.07,81.28,81.49000000000001,81.7,81.91,82.12,82.33,82.53999999999999,82.75,82.96000000000001,83.17,83.38,83.59,83.8,84.00999999999999,84.22,84.43,84.64,84.85,85.06,85.27000000000001,85.47999999999999,85.69,85.9,86.11,86.32,86.53,86.74000000000001,86.95,87.16,87.37,87.58,87.78999999999999,88.0,88.21000000000001,88.42,88.63,88.84,89.05,89.26,89.47,89.68,89.89,90.1,90.31,90.52,90.73,90.94,91.15,91.36,91.57,91.78,91.99,92.2,92.41,92.62,92.83,93.04,93.25,93.46,93.67,93.88,94.09,94.3,94.51,94.72,94.93,95.14,95.35,95.56,95.77,95.98,96.19,96.4,96.61,96.82,97.03,97.24,97.45,97.66,97.87,98.08,98.29,98.5,98.71,98.92,99.13,99.34,99.55,99.76,99.97,100.18,100.39,100.6,100.81,101.02,101.23,101.44,101.65,101.86,102.07,102.28,102.49,102.7,102.91,103.12,103.33,103.54,103.75,103.96,104.17,104.38,104.59,104.8,105.01,105.22,105.43,105.64,105.85,106.06,106.27,106.48,106.69,106.9,107.11,107.32,107.53,107.74,107.95,108.16,108.37,108.58,108.79,109.0,109.21,109.42,109.63,109.84,110.05,110.26,110.47,110.68,110.89,111.1,111.31,111.52,111.73,111.94,112.15,112.36,112.57,112.78,112.99,113.2,113.41,113.62,113.83,114.04,114.25,114.46,114.67,114.88,115.09,115.3,115.51,115.72,115.93,116.14,116.35,116.56,116.77,116.98,117.19,117.4,117.61,117.82,118.03,118.24,118.45,118.66,118.87,119.08,119.29,119.5,119.71,119.92,120.13,120.34,120.55,120.76,120.97,121.18,121.39,121.6,121.81,122.02,122.23,122.44,122.65,122.86,123.07,123.28,123.49,123.7,123.91,124.12,124.33,124.54,124.75,124.96,125.17,125.38,125.59,125.8,126.01,126.22,126.43,126.64,126.85,127.06,127.27,127.48,127.69,127.9,128.11,128.32,128.53,128.74,128.95,129.16,129.37,129.57999999999998,129.79000000000002],\"xaxis\":\"x\",\"y\":[9.761758669784216e-05,0.000103258311649211,0.00010843298459129334,0.00011313553202672725,0.0001173955470529459,0.0001212781925078284,0.00012488160912757542,0.00012833195525104211,0.000131776431890148,0.000135374848979986,0.00013929044182645794,0.00014368073236925094,0.00014868923626863324,0.00015443874126447917,0.0001610267314029251,0.00016852332096544401,0.0001769718135866437,0.00018639174269529765,0.00019678400672695851,0.00020813751202780864,0.00022043659839849906,0.0002336684599219526,0.0002478297916632701,0.00026293198692463175,0.0002790043680859116,0.0002960951387077446,0.000314269973828491,0.0003336083963901051,0.00035419829891592864,0.0003761291427337991,0.0003994844888055328,0.0004243345767575596,0.00045072966975756774,0.0004786948252114163,0.0005082266416629172,0.0005392923804376618,0.0005718316778924333,0.00060576086283062,0.0006409796861002964,0.0006773800678026505,0.0007148562837941953,0.000753315858812326,0.0007926903196818826,0.0008329448989887288,0.0008740862762707708,0.0009161675068253704,0.0009592894209217591,0.0010035979772622108,0.0010492773171879226,0.0010965385775688302,0.001145604861744899,0.0011966931152622192,0.0012499939786775156,0.0013056509639736585,0.001363740495669,0.0014242544477831745,0.0014870867751478564,0.0015520256726165276,0.0016187523995630324,0.0016868474921832859,0.0017558045765632023,0.0018250514258213702,0.0018939773179972453,0.001961965196437053,0.0020284266617053392,0.002092837481302813,0.0021547711309929524,0.0022139279074071963,0.002270157387533107,0.002323472449087527,0.002374053678455384,0.002422243731984752,0.002468532017805123,0.0025135308541624217,0.0025579449587033796,0.002602536659068421,0.0026480895309619517,0.002695373230119136,0.0027451120812464953,0.0027979595414514453,0.002854480016790907,0.002915138749240911,0.0029802996917890805,0.003050230538427784,0.0031251134523838445,0.003205059600984125,0.003290125395406738,0.0033803283564296242,0.00347566076405221,0.0035760996575329882,0.0036816122753240673,0.003792156597115529,0.0039076772101853405,0.004028097216372338,0.004153307285671965,0.004283153225892794,0.0044174235694275695,0.0045558386856864525,0.0046980428278152585,0.004843600335852874,0.0049919969663395885,0.005142647018395629,0.0052949065919709205,0.005448092954861867,0.005601509618588826,0.005754476337090156,0.0059063628573417055,0.006056624883658043,0.006204840390061589,0.006350744155946917,0.0064942582410449584,0.0066355160879538804,0.006774878070925842,0.006912936614930873,0.007050509491609031,0.007188620543307836,0.0073284678589321415,0.0074713802742676005,0.007618763929571067,0.007772041415647759,0.007932586703422607,0.00810165951621972,0.00828034301926153,0.008469488639556811,0.008669671488645926,0.008881159263509379,0.009103896693224572,0.009337506644419978,0.009581307971816765,0.009834349178494831,0.010095456006559382,0.010363290273910168,0.01063641665249746,0.010913373675907537,0.01119274508037856,0.011473227619748587,0.011753691736740013,0.012033231898754593,0.012311203990691348,0.012587247873389468,0.012861294036194047,0.013133554165455199,0.013404496382548866,0.013674806832988098,0.013945340181458873,0.01421706232659707,0.014490989229298427,0.014768126084912524,0.015049411107787541,0.015335667900042557,0.01562756973753831,0.015925618152835837,0.01623013699422782,0.01654128179439619,0.01685906292196714,0.017183379756984172,0.01751406216476918,0.0178509149549054,0.018193760874127433,0.018542478010862902,0.018897028242756044,0.019257474439761897,0.019623985404988987,0.01999682883107281,0.020376353710116736,0.020762964522700014,0.021157090052918177,0.02155914979521067,0.021969520658673723,0.02238850611339661,0.022816309178479464,0.023253009859075136,0.023698546932378096,0.024152703467160325,0.024615095204686153,0.025085160947010226,0.025562154360057203,0.02604513703087116,0.026532973123543475,0.027024326452205292,0.027517661139171583,0.028011247185319846,0.028503172217299567,0.02899136039936768,0.029473599046850825,0.029947572917581912,0.030410905560710123,0.030861206540216166,0.03129612287941678,0.03171339272826942,0.03211089905005894,0.03248672105222605,0.032839181129577705,0.033166885226411064,0.0334687547411667,0.03374404838727117,0.03399237279135962,0.0342136810662473,0.034408259150692976,0.0345767003614133,0.03471986933513384,0.03483885730674177,0.03493493140502936,0.0350094812630072,0.03506396663960564,0.03509986984600635,0.03511865649855077,0.035121747456738336,0.0351105037738001,0.03508622516799566,0.03505016104215005,0.035003531601868074,0.034947555330075576,0.034883478141827504,0.034812599111199764,0.034736287820742,0.034655989151915145,0.03457321265351127,0.03448950536042658,0.03440640889251258,0.03432540360930416,0.034247844289144506,0.034174893021948566,0.03410745558923771,0.03404612746690087,0.033991154731796064,0.03394241368298548,0.03389941108406673,0.03386130483422575,0.03382694284662253,0.03379491620530142,0.03376362149019944,0.033731326632325136,0.033696234822440385,0.03365654178638818,0.033610483012862104,0.033556369069903454,0.03349260874166534,0.03341772113261218,0.03333033894003965,0.03322920567349602,0.03311316966962136,0.03298117736471207,0.032832267567159415,0.032665567586964185,0.032480291215573893,0.03227573787612262,0.03205129190723125,0.03180642096274917,0.03154067289115729,0.031253671116212974,0.030945109334100846,0.030614747099713027,0.030262408423060872,0.02988798569191835,0.029491450989890432,0.029072876172375896,0.028632461957088302,0.028170574912188967,0.02768778976924836,0.02718493316267185,0.026663123911577397,0.02612380448881407,0.025568758478218864,0.02500010963834793,0.024420299614258196,0.02383204323049362,0.023238262453393624,0.022642002282646515,0.022046333764415,0.021454250778175542,0.02086856805749316,0.02029182795875857,0.019726222779095852,0.01917353802408051,0.01863512009661785,0.01811186963905922,0.01760425946131931,0.01711237387838606,0.016635964581261767,0.01617451704070555,0.015727320985906283,0.015293538723397265,0.014872265901823105,0.014462580657378767,0.01406357871899215,0.013674393814412268,0.013294204402022267,0.012922229184205224,0.012557714902304043,0.012199920487473351,0.01184810171905024,0.011501500149802694,0.011159339269713029,0.010820829806407611,0.01048518483123797,0.010151644091769387,0.00981950585187486,0.009488163597470248,0.00915714433784644,0.008826144944319936,0.008495063029400122,0.00816401925793787,0.007833368646307605,0.007503699275446272,0.007175817834576051,0.006850722436117798,0.0065295641127637175,0.0062135992484505026,0.0059041358437984985,0.00560247692953823,0.005309864594709144,0.005027427987457297,0.004756138292900911,0.004496773131135146,0.004249892100583123,0.004015824379964525,0.003794668464052731,0.003586303311658662,0.003390409490132139,0.003206498358536446,0.0030339469748069787,0.0028720362550547747,0.002719989950545623,0.0025770122165797325,0.002442321889809447,0.0023151820195234383,0.0021949236640659243,0.0020809634189888565,0.001972814550606319,0.0018700919417583251,0.0017725113046804719,0.001679883281690652,0.0015921031519891935,0.0015091369132185237,0.0014310045323554657,0.001357761181606243,0.0012894773035462567,0.0012262183884862584,0.0011680253887523056,0.0011148967240168176,0.0010667728292998195,0.0010235241431301408,0.0009849433127080169,0.0009507421994354601,0.0009205540065175164,0.0008939405364246976,0.0008704042453884991,0.00084940442649988,0.000830376555756288,0.0008127536067379002,0.0007959880022272292,0.0007795728373271605,0.0007630610790948518,0.0007460816118815329,0.0007283512360024451,0.0007096820149666256,0.0006899836763023683,0.000669261077688124,0.0006476070326815693,0.0006251910337996196,0.0006022446062442183,0.0005790441698250854,0.0005558923801139221,0.0005330989651360311,0.0005109620739265169,0.0004897511103212768,0.0004696919406688827,0.0004509552384143407,0.00043364856286476697,0.0004178125668635544,0.0004034214946307102,0.00039038787667853095,0.0003785710676039565,0.0003677890222683074,0.0003578324859798897,0.0003484806043063454,0.0003395168551154127,0.0003307441816369016,0.0003219982663137073,0.00031315802865765986,0.00030415264586637804,0.00029496466495826997,0.0002856290765215269,0.00027622852670533126,0.0002668851294829004,0.0002577495818025017,0.0002489884613882925,0.0002407706887933598,0.00023325415753354197,0.0002265734818276416,0.0002208296901033351,0.00021608251820252598,0.00021234574611184927,0.0002095857938333595,0.00020772356259108325,0.0002066392917341682,0.00020618001147839013,0.00020616901614971904,0.00020641666830967283,0.00020673177525479147,0.0002069327582488495,0.00020685786220387122,0.00020637372845135488,0.00020538177285252932,0.00020382197047437556,0.00020167383821166236,0.00019895461673475327,0.00019571486866377404,0.00019203191425218246,0.00018800170132821054,0.0001837298355934203,0.00017932256599836435,0.00017487851780949778,0.00017048188952760806,0.0001661976829356388,0.00016206933002503699,0.000158118835347016,0.000154349291945613,0.00015074938091707597,0.00014729925612926812,0.00014397707060405846,0.00014076533689631472,0.00013765633901229304,0.00013465592632291455,0.00013178520860665822,0.0001290799148395765,0.00012658744905577637,0.0001243619436129862,0.00012245784298956755,0.00012092272337107176,0.00011979014557421564,0.00011907334162947703,0.00011876044947758088,0.00011881184688309105,0.00011915991472134363,0.0001197113073035333,0.00012035155230739864,0.00012095157346921191,0.00012137554976341166,0.00012148941290546438,0.00012116924966130132,0.0001203089163900309,0.00011882628149137469,0.00011666767079289519,0.00011381028041287311,0.000110262518358825,0.00010606241816603059,0.00010127441697416724,9.59848939085004e-05,9.029691647679634e-05,8.432464370171436e-05,7.818779165261037e-05,7.200649115269522e-05,6.589677244719058e-05,5.996681167179182e-05,5.431398173119908e-05,4.902267543072438e-05,4.4162817353004847e-05,3.978895496053216e-05,3.593981696316503e-05,3.263824342931066e-05,2.9891420870576297e-05,2.7691389264436866e-05,2.6015819659715525e-05,2.4829084747520727e-05,2.4083656444045934e-05,2.3721862075966834e-05,2.3678014290322133e-05,2.3880901419585173e-05,2.4256588437258216e-05,2.473143868400461e-05,2.5235228603752337e-05,2.570419707135937e-05,2.6083852059998872e-05,2.6331353663338648e-05,2.6417305467678375e-05,2.6326815708541093e-05,2.6059733445391764e-05,2.5630019450378103e-05,2.506427178100786e-05,2.4399486661652852e-05,2.368019094674083e-05,2.2955128313723483e-05,2.227371374971389e-05,2.1682487525219895e-05,2.1221799811869416e-05,2.092294087816003e-05,2.0805901013436456e-05,2.0877901479781933e-05,2.1132785959737763e-05,2.155130459752397e-05,2.2102263451051488e-05,2.2744454675241194e-05,2.34292307027276e-05,2.4103542578252976e-05,2.4713231607993515e-05,2.5206347199808904e-05,2.5536263922106548e-05,2.566438795877804e-05],\"yaxis\":\"y\",\"type\":\"scatter\"}],                        {\"barmode\":\"overlay\",\"hovermode\":\"closest\",\"legend\":{\"traceorder\":\"reversed\"},\"xaxis\":{\"anchor\":\"y2\",\"domain\":[0.0,1.0],\"zeroline\":false,\"title\":{\"text\":\"Length of a Headline\"}},\"yaxis\":{\"anchor\":\"free\",\"domain\":[0.0,1],\"position\":0.0,\"title\":{\"text\":\"Probability\"}},\"template\":{\"data\":{\"histogram2dcontour\":[{\"type\":\"histogram2dcontour\",\"colorbar\":{\"outlinewidth\":0,\"ticks\":\"\"},\"colorscale\":[[0.0,\"#0d0887\"],[0.1111111111111111,\"#46039f\"],[0.2222222222222222,\"#7201a8\"],[0.3333333333333333,\"#9c179e\"],[0.4444444444444444,\"#bd3786\"],[0.5555555555555556,\"#d8576b\"],[0.6666666666666666,\"#ed7953\"],[0.7777777777777778,\"#fb9f3a\"],[0.8888888888888888,\"#fdca26\"],[1.0,\"#f0f921\"]]}],\"choropleth\":[{\"type\":\"choropleth\",\"colorbar\":{\"outlinewidth\":0,\"ticks\":\"\"}}],\"histogram2d\":[{\"type\":\"histogram2d\",\"colorbar\":{\"outlinewidth\":0,\"ticks\":\"\"},\"colorscale\":[[0.0,\"#0d0887\"],[0.1111111111111111,\"#46039f\"],[0.2222222222222222,\"#7201a8\"],[0.3333333333333333,\"#9c179e\"],[0.4444444444444444,\"#bd3786\"],[0.5555555555555556,\"#d8576b\"],[0.6666666666666666,\"#ed7953\"],[0.7777777777777778,\"#fb9f3a\"],[0.8888888888888888,\"#fdca26\"],[1.0,\"#f0f921\"]]}],\"heatmap\":[{\"type\":\"heatmap\",\"colorbar\":{\"outlinewidth\":0,\"ticks\":\"\"},\"colorscale\":[[0.0,\"#0d0887\"],[0.1111111111111111,\"#46039f\"],[0.2222222222222222,\"#7201a8\"],[0.3333333333333333,\"#9c179e\"],[0.4444444444444444,\"#bd3786\"],[0.5555555555555556,\"#d8576b\"],[0.6666666666666666,\"#ed7953\"],[0.7777777777777778,\"#fb9f3a\"],[0.8888888888888888,\"#fdca26\"],[1.0,\"#f0f921\"]]}],\"heatmapgl\":[{\"type\":\"heatmapgl\",\"colorbar\":{\"outlinewidth\":0,\"ticks\":\"\"},\"colorscale\":[[0.0,\"#0d0887\"],[0.1111111111111111,\"#46039f\"],[0.2222222222222222,\"#7201a8\"],[0.3333333333333333,\"#9c179e\"],[0.4444444444444444,\"#bd3786\"],[0.5555555555555556,\"#d8576b\"],[0.6666666666666666,\"#ed7953\"],[0.7777777777777778,\"#fb9f3a\"],[0.8888888888888888,\"#fdca26\"],[1.0,\"#f0f921\"]]}],\"contourcarpet\":[{\"type\":\"contourcarpet\",\"colorbar\":{\"outlinewidth\":0,\"ticks\":\"\"}}],\"contour\":[{\"type\":\"contour\",\"colorbar\":{\"outlinewidth\":0,\"ticks\":\"\"},\"colorscale\":[[0.0,\"#0d0887\"],[0.1111111111111111,\"#46039f\"],[0.2222222222222222,\"#7201a8\"],[0.3333333333333333,\"#9c179e\"],[0.4444444444444444,\"#bd3786\"],[0.5555555555555556,\"#d8576b\"],[0.6666666666666666,\"#ed7953\"],[0.7777777777777778,\"#fb9f3a\"],[0.8888888888888888,\"#fdca26\"],[1.0,\"#f0f921\"]]}],\"surface\":[{\"type\":\"surface\",\"colorbar\":{\"outlinewidth\":0,\"ticks\":\"\"},\"colorscale\":[[0.0,\"#0d0887\"],[0.1111111111111111,\"#46039f\"],[0.2222222222222222,\"#7201a8\"],[0.3333333333333333,\"#9c179e\"],[0.4444444444444444,\"#bd3786\"],[0.5555555555555556,\"#d8576b\"],[0.6666666666666666,\"#ed7953\"],[0.7777777777777778,\"#fb9f3a\"],[0.8888888888888888,\"#fdca26\"],[1.0,\"#f0f921\"]]}],\"mesh3d\":[{\"type\":\"mesh3d\",\"colorbar\":{\"outlinewidth\":0,\"ticks\":\"\"}}],\"scatter\":[{\"fillpattern\":{\"fillmode\":\"overlay\",\"size\":10,\"solidity\":0.2},\"type\":\"scatter\"}],\"parcoords\":[{\"type\":\"parcoords\",\"line\":{\"colorbar\":{\"outlinewidth\":0,\"ticks\":\"\"}}}],\"scatterpolargl\":[{\"type\":\"scatterpolargl\",\"marker\":{\"colorbar\":{\"outlinewidth\":0,\"ticks\":\"\"}}}],\"bar\":[{\"error_x\":{\"color\":\"#2a3f5f\"},\"error_y\":{\"color\":\"#2a3f5f\"},\"marker\":{\"line\":{\"color\":\"#E5ECF6\",\"width\":0.5},\"pattern\":{\"fillmode\":\"overlay\",\"size\":10,\"solidity\":0.2}},\"type\":\"bar\"}],\"scattergeo\":[{\"type\":\"scattergeo\",\"marker\":{\"colorbar\":{\"outlinewidth\":0,\"ticks\":\"\"}}}],\"scatterpolar\":[{\"type\":\"scatterpolar\",\"marker\":{\"colorbar\":{\"outlinewidth\":0,\"ticks\":\"\"}}}],\"histogram\":[{\"marker\":{\"pattern\":{\"fillmode\":\"overlay\",\"size\":10,\"solidity\":0.2}},\"type\":\"histogram\"}],\"scattergl\":[{\"type\":\"scattergl\",\"marker\":{\"colorbar\":{\"outlinewidth\":0,\"ticks\":\"\"}}}],\"scatter3d\":[{\"type\":\"scatter3d\",\"line\":{\"colorbar\":{\"outlinewidth\":0,\"ticks\":\"\"}},\"marker\":{\"colorbar\":{\"outlinewidth\":0,\"ticks\":\"\"}}}],\"scattermapbox\":[{\"type\":\"scattermapbox\",\"marker\":{\"colorbar\":{\"outlinewidth\":0,\"ticks\":\"\"}}}],\"scatterternary\":[{\"type\":\"scatterternary\",\"marker\":{\"colorbar\":{\"outlinewidth\":0,\"ticks\":\"\"}}}],\"scattercarpet\":[{\"type\":\"scattercarpet\",\"marker\":{\"colorbar\":{\"outlinewidth\":0,\"ticks\":\"\"}}}],\"carpet\":[{\"aaxis\":{\"endlinecolor\":\"#2a3f5f\",\"gridcolor\":\"white\",\"linecolor\":\"white\",\"minorgridcolor\":\"white\",\"startlinecolor\":\"#2a3f5f\"},\"baxis\":{\"endlinecolor\":\"#2a3f5f\",\"gridcolor\":\"white\",\"linecolor\":\"white\",\"minorgridcolor\":\"white\",\"startlinecolor\":\"#2a3f5f\"},\"type\":\"carpet\"}],\"table\":[{\"cells\":{\"fill\":{\"color\":\"#EBF0F8\"},\"line\":{\"color\":\"white\"}},\"header\":{\"fill\":{\"color\":\"#C8D4E3\"},\"line\":{\"color\":\"white\"}},\"type\":\"table\"}],\"barpolar\":[{\"marker\":{\"line\":{\"color\":\"#E5ECF6\",\"width\":0.5},\"pattern\":{\"fillmode\":\"overlay\",\"size\":10,\"solidity\":0.2}},\"type\":\"barpolar\"}],\"pie\":[{\"automargin\":true,\"type\":\"pie\"}]},\"layout\":{\"autotypenumbers\":\"strict\",\"colorway\":[\"#636efa\",\"#EF553B\",\"#00cc96\",\"#ab63fa\",\"#FFA15A\",\"#19d3f3\",\"#FF6692\",\"#B6E880\",\"#FF97FF\",\"#FECB52\"],\"font\":{\"color\":\"#2a3f5f\"},\"hovermode\":\"closest\",\"hoverlabel\":{\"align\":\"left\"},\"paper_bgcolor\":\"white\",\"plot_bgcolor\":\"#E5ECF6\",\"polar\":{\"bgcolor\":\"#E5ECF6\",\"angularaxis\":{\"gridcolor\":\"white\",\"linecolor\":\"white\",\"ticks\":\"\"},\"radialaxis\":{\"gridcolor\":\"white\",\"linecolor\":\"white\",\"ticks\":\"\"}},\"ternary\":{\"bgcolor\":\"#E5ECF6\",\"aaxis\":{\"gridcolor\":\"white\",\"linecolor\":\"white\",\"ticks\":\"\"},\"baxis\":{\"gridcolor\":\"white\",\"linecolor\":\"white\",\"ticks\":\"\"},\"caxis\":{\"gridcolor\":\"white\",\"linecolor\":\"white\",\"ticks\":\"\"}},\"coloraxis\":{\"colorbar\":{\"outlinewidth\":0,\"ticks\":\"\"}},\"colorscale\":{\"sequential\":[[0.0,\"#0d0887\"],[0.1111111111111111,\"#46039f\"],[0.2222222222222222,\"#7201a8\"],[0.3333333333333333,\"#9c179e\"],[0.4444444444444444,\"#bd3786\"],[0.5555555555555556,\"#d8576b\"],[0.6666666666666666,\"#ed7953\"],[0.7777777777777778,\"#fb9f3a\"],[0.8888888888888888,\"#fdca26\"],[1.0,\"#f0f921\"]],\"sequentialminus\":[[0.0,\"#0d0887\"],[0.1111111111111111,\"#46039f\"],[0.2222222222222222,\"#7201a8\"],[0.3333333333333333,\"#9c179e\"],[0.4444444444444444,\"#bd3786\"],[0.5555555555555556,\"#d8576b\"],[0.6666666666666666,\"#ed7953\"],[0.7777777777777778,\"#fb9f3a\"],[0.8888888888888888,\"#fdca26\"],[1.0,\"#f0f921\"]],\"diverging\":[[0,\"#8e0152\"],[0.1,\"#c51b7d\"],[0.2,\"#de77ae\"],[0.3,\"#f1b6da\"],[0.4,\"#fde0ef\"],[0.5,\"#f7f7f7\"],[0.6,\"#e6f5d0\"],[0.7,\"#b8e186\"],[0.8,\"#7fbc41\"],[0.9,\"#4d9221\"],[1,\"#276419\"]]},\"xaxis\":{\"gridcolor\":\"white\",\"linecolor\":\"white\",\"ticks\":\"\",\"title\":{\"standoff\":15},\"zerolinecolor\":\"white\",\"automargin\":true,\"zerolinewidth\":2},\"yaxis\":{\"gridcolor\":\"white\",\"linecolor\":\"white\",\"ticks\":\"\",\"title\":{\"standoff\":15},\"zerolinecolor\":\"white\",\"automargin\":true,\"zerolinewidth\":2},\"scene\":{\"xaxis\":{\"backgroundcolor\":\"#E5ECF6\",\"gridcolor\":\"white\",\"linecolor\":\"white\",\"showbackground\":true,\"ticks\":\"\",\"zerolinecolor\":\"white\",\"gridwidth\":2},\"yaxis\":{\"backgroundcolor\":\"#E5ECF6\",\"gridcolor\":\"white\",\"linecolor\":\"white\",\"showbackground\":true,\"ticks\":\"\",\"zerolinecolor\":\"white\",\"gridwidth\":2},\"zaxis\":{\"backgroundcolor\":\"#E5ECF6\",\"gridcolor\":\"white\",\"linecolor\":\"white\",\"showbackground\":true,\"ticks\":\"\",\"zerolinecolor\":\"white\",\"gridwidth\":2}},\"shapedefaults\":{\"line\":{\"color\":\"#2a3f5f\"}},\"annotationdefaults\":{\"arrowcolor\":\"#2a3f5f\",\"arrowhead\":0,\"arrowwidth\":1},\"geo\":{\"bgcolor\":\"white\",\"landcolor\":\"#E5ECF6\",\"subunitcolor\":\"white\",\"showland\":true,\"showlakes\":true,\"lakecolor\":\"white\"},\"title\":{\"x\":0.05},\"mapbox\":{\"style\":\"light\"}}},\"title\":{\"text\":\"Distribution of Headline Lengths\"},\"width\":500,\"height\":500,\"showlegend\":false},                        {\"responsive\": true}                    ).then(function(){\n",
       "                            \n",
       "var gd = document.getElementById('15ff3799-bd73-4281-807f-96f4cdc505b0');\n",
       "var x = new MutationObserver(function (mutations, observer) {{\n",
       "        var display = window.getComputedStyle(gd).display;\n",
       "        if (!display || display === 'none') {{\n",
       "            console.log([gd, 'removed!']);\n",
       "            Plotly.purge(gd);\n",
       "            observer.disconnect();\n",
       "        }}\n",
       "}});\n",
       "\n",
       "// Listen for the removal of the full notebook cells\n",
       "var notebookContainer = gd.closest('#notebook-container');\n",
       "if (notebookContainer) {{\n",
       "    x.observe(notebookContainer, {childList: true});\n",
       "}}\n",
       "\n",
       "// Listen for the clearing of the current output cell\n",
       "var outputEl = gd.closest('.output');\n",
       "if (outputEl) {{\n",
       "    x.observe(outputEl, {childList: true});\n",
       "}}\n",
       "\n",
       "                        })                };                });            </script>        </div>"
      ]
     },
     "metadata": {},
     "output_type": "display_data"
    }
   ],
   "source": [
    "import plotly.figure_factory as ff\n",
    "\n",
    "# Create a distribution plot for the length of news article headlines\n",
    "fig = ff.create_distplot(\n",
    "    [news_articles['headline'].str.len()], \n",
    "    [\"Headline Length\"], \n",
    "    show_hist=False, \n",
    "    show_rug=False\n",
    ")\n",
    "\n",
    "# Update the layout for clarity and readability\n",
    "fig.update_layout(\n",
    "    title='Distribution of Headline Lengths',\n",
    "    xaxis_title=\"Length of a Headline\",\n",
    "    yaxis_title=\"Probability\",\n",
    "    width=500,\n",
    "    height=500,\n",
    "    showlegend=False\n",
    ")\n",
    "\n",
    "fig.show()\n"
   ]
  },
  {
   "cell_type": "code",
   "execution_count": 37,
   "metadata": {
    "colab": {
     "base_uri": "https://localhost:8080/"
    },
    "id": "MpyoOFXvCZx5",
    "outputId": "04d65c54-6d40-4bad-ad82-c2c965597b03"
   },
   "outputs": [
    {
     "name": "stderr",
     "output_type": "stream",
     "text": [
      "[nltk_data] Downloading package stopwords to\n",
      "[nltk_data]     C:\\Users\\me22809\\AppData\\Roaming\\nltk_data...\n",
      "[nltk_data]   Package stopwords is already up-to-date!\n",
      "[nltk_data] Downloading package wordnet to\n",
      "[nltk_data]     C:\\Users\\me22809\\AppData\\Roaming\\nltk_data...\n",
      "[nltk_data]   Package wordnet is already up-to-date!\n",
      "100%|████████████████████████████████████████████████████████████████████████████| 8485/8485 [00:01<00:00, 8429.84it/s]\n"
     ]
    }
   ],
   "source": [
    "# Preprocessing\n",
    "news_articles_temp = news_articles.copy() \n",
    "# Download necessary NLTK data\n",
    "nltk.download('stopwords')\n",
    "nltk.download('wordnet')\n",
    "\n",
    "# Set stopwords and initialize the WordNet Lemmatizer\n",
    "stop_words = set(stopwords.words('english'))\n",
    "lemmatizer = WordNetLemmatizer()\n",
    "\n",
    "# Function to preprocess and lemmatize text\n",
    "def preprocess_and_lemmatize(text):\n",
    "    # Remove non-alphanumeric characters\n",
    "    text = re.sub(r'\\W+', ' ', text)\n",
    "    # Convert text to lowercase\n",
    "    text = text.lower()\n",
    "    # Tokenize text\n",
    "    words = word_tokenize(text)\n",
    "    # Remove stopwords and lemmatize\n",
    "    lemmatized_words = [lemmatizer.lemmatize(word, pos=\"v\") for word in words if word not in stop_words]\n",
    "    # Join words back into a string\n",
    "    return ' '.join(lemmatized_words)\n",
    "\n",
    "# Apply the function to each headline\n",
    "news_articles_temp['headline'] = [preprocess_and_lemmatize(headline) for headline in tqdm(news_articles_temp['headline'])]"
   ]
  },
  {
   "cell_type": "code",
   "execution_count": 38,
   "metadata": {},
   "outputs": [
    {
     "name": "stdout",
     "output_type": "stream",
     "text": [
      "============================== Queried Article Details ==============================\n",
      "Headline: Woman Fired After Flipping Off Trump's Motorcade Sues Former Employer\n",
      "\n",
      " ========================= Recommended Articles: =======================\n"
     ]
    },
    {
     "data": {
      "text/html": [
       "<div>\n",
       "<style scoped>\n",
       "    .dataframe tbody tr th:only-of-type {\n",
       "        vertical-align: middle;\n",
       "    }\n",
       "\n",
       "    .dataframe tbody tr th {\n",
       "        vertical-align: top;\n",
       "    }\n",
       "\n",
       "    .dataframe thead th {\n",
       "        text-align: right;\n",
       "    }\n",
       "</style>\n",
       "<table border=\"1\" class=\"dataframe\">\n",
       "  <thead>\n",
       "    <tr style=\"text-align: right;\">\n",
       "      <th></th>\n",
       "      <th>publish_date</th>\n",
       "      <th>headline</th>\n",
       "      <th>Euclidean similarity</th>\n",
       "    </tr>\n",
       "  </thead>\n",
       "  <tbody>\n",
       "    <tr>\n",
       "      <th>1</th>\n",
       "      <td>2018-04-02</td>\n",
       "      <td>The Trump Administration Is Suing California Again</td>\n",
       "      <td>2.828427</td>\n",
       "    </tr>\n",
       "    <tr>\n",
       "      <th>2</th>\n",
       "      <td>2018-03-26</td>\n",
       "      <td>Trump Ally Sues Qatar For Hacking His Email</td>\n",
       "      <td>3.162278</td>\n",
       "    </tr>\n",
       "    <tr>\n",
       "      <th>3</th>\n",
       "      <td>2018-04-28</td>\n",
       "      <td>Trump: Mueller Should Never Have Been Appointed</td>\n",
       "      <td>3.162278</td>\n",
       "    </tr>\n",
       "    <tr>\n",
       "      <th>4</th>\n",
       "      <td>2018-04-24</td>\n",
       "      <td>Spanish Woman Looks More Like Trump Than The Donald Himself</td>\n",
       "      <td>3.162278</td>\n",
       "    </tr>\n",
       "    <tr>\n",
       "      <th>5</th>\n",
       "      <td>2018-02-21</td>\n",
       "      <td>All They Will Call You Will Be Deportees</td>\n",
       "      <td>3.162278</td>\n",
       "    </tr>\n",
       "    <tr>\n",
       "      <th>6</th>\n",
       "      <td>2018-05-09</td>\n",
       "      <td>The Caliphate Of Trump And A Planet In Ruins</td>\n",
       "      <td>3.162278</td>\n",
       "    </tr>\n",
       "    <tr>\n",
       "      <th>7</th>\n",
       "      <td>2018-02-12</td>\n",
       "      <td>What You Should Know About Trump's Nihilist Budget</td>\n",
       "      <td>3.162278</td>\n",
       "    </tr>\n",
       "    <tr>\n",
       "      <th>8</th>\n",
       "      <td>2018-05-01</td>\n",
       "      <td>Texas Sues Trump Administration To End DACA</td>\n",
       "      <td>3.162278</td>\n",
       "    </tr>\n",
       "    <tr>\n",
       "      <th>9</th>\n",
       "      <td>2018-03-07</td>\n",
       "      <td>Stormy Daniels Suing Trump Over Nondisclosure Agreement</td>\n",
       "      <td>3.162278</td>\n",
       "    </tr>\n",
       "    <tr>\n",
       "      <th>10</th>\n",
       "      <td>2018-05-16</td>\n",
       "      <td>Trump Refers To Immigrants As 'Animals.' Again.</td>\n",
       "      <td>3.162278</td>\n",
       "    </tr>\n",
       "  </tbody>\n",
       "</table>\n",
       "</div>"
      ],
      "text/plain": [
       "   publish_date                                                     headline  \\\n",
       "1    2018-04-02           The Trump Administration Is Suing California Again   \n",
       "2    2018-03-26                  Trump Ally Sues Qatar For Hacking His Email   \n",
       "3    2018-04-28              Trump: Mueller Should Never Have Been Appointed   \n",
       "4    2018-04-24  Spanish Woman Looks More Like Trump Than The Donald Himself   \n",
       "5    2018-02-21                     All They Will Call You Will Be Deportees   \n",
       "6    2018-05-09                 The Caliphate Of Trump And A Planet In Ruins   \n",
       "7    2018-02-12           What You Should Know About Trump's Nihilist Budget   \n",
       "8    2018-05-01                  Texas Sues Trump Administration To End DACA   \n",
       "9    2018-03-07      Stormy Daniels Suing Trump Over Nondisclosure Agreement   \n",
       "10   2018-05-16              Trump Refers To Immigrants As 'Animals.' Again.   \n",
       "\n",
       "    Euclidean similarity  \n",
       "1               2.828427  \n",
       "2               3.162278  \n",
       "3               3.162278  \n",
       "4               3.162278  \n",
       "5               3.162278  \n",
       "6               3.162278  \n",
       "7               3.162278  \n",
       "8               3.162278  \n",
       "9               3.162278  \n",
       "10              3.162278  "
      ]
     },
     "execution_count": 38,
     "metadata": {},
     "output_type": "execute_result"
    }
   ],
   "source": [
    "# Bag of words model\n",
    "# Vectorize the headlines using Bag of Words\n",
    "headline_vectorizer = CountVectorizer()\n",
    "headline_features = headline_vectorizer.fit_transform(news_articles_temp['headline'])\n",
    "\n",
    "# Function to find similar articles\n",
    "def bag_of_words_based_model(row_index, num_similar_items):\n",
    "    couple_dist = pairwise_distances(headline_features, headline_features[row_index])\n",
    "    indices = np.argsort(couple_dist.ravel())[0:num_similar_items]\n",
    "    \n",
    "    df = pd.DataFrame({\n",
    "        'publish_date': news_articles['date'][indices].values,\n",
    "        'headline': news_articles['headline'][indices].values,\n",
    "        'Euclidean similarity': couple_dist[indices].ravel()\n",
    "    })\n",
    "    \n",
    "    # Display details of the queried article\n",
    "    print(\"=\"*30, \"Queried Article Details\", \"=\"*30)\n",
    "    print('Headline:', news_articles['headline'][indices[0]])\n",
    "    \n",
    "    # Display recommended similar articles\n",
    "    print(\"\\n\", \"=\"*25, \"Recommended Articles:\", \"=\"*23)\n",
    "    return df.iloc[1:,]  # Exclude the queried article from the recommendations\n",
    "\n",
    "# Example usage\n",
    "bag_of_words_based_model(133, 11)"
   ]
  },
  {
   "cell_type": "markdown",
   "metadata": {
    "id": "jdxREeUwIKTH"
   },
   "source": [
    "Disadvantages\n",
    "\n",
    "It gives very low importance to less frequently observed words in the corpus. Few words from the queried article like \"employer\", \"flip\", \"fire\" appear less frequently in the entire corpus so BoW method does not recommend any article whose headline contains these words. Since trump is commonly observed word in the corpus so it is recommending the articles with headline containing \"trump\".\n",
    "BoW method doesn't preserve the order of words."
   ]
  },
  {
   "cell_type": "code",
   "execution_count": 39,
   "metadata": {
    "colab": {
     "base_uri": "https://localhost:8080/",
     "height": 536
    },
    "id": "eszcSU_cCZ9t",
    "outputId": "ec46bc54-4ed8-4291-b78a-ed71a6d0769e"
   },
   "outputs": [
    {
     "name": "stdout",
     "output_type": "stream",
     "text": [
      "============================== Queried Article Details ==============================\n",
      "Headline: Woman Fired After Flipping Off Trump's Motorcade Sues Former Employer\n",
      "\n",
      " ========================= Recommended Articles: =======================\n"
     ]
    },
    {
     "data": {
      "text/html": [
       "<div>\n",
       "<style scoped>\n",
       "    .dataframe tbody tr th:only-of-type {\n",
       "        vertical-align: middle;\n",
       "    }\n",
       "\n",
       "    .dataframe tbody tr th {\n",
       "        vertical-align: top;\n",
       "    }\n",
       "\n",
       "    .dataframe thead th {\n",
       "        text-align: right;\n",
       "    }\n",
       "</style>\n",
       "<table border=\"1\" class=\"dataframe\">\n",
       "  <thead>\n",
       "    <tr style=\"text-align: right;\">\n",
       "      <th></th>\n",
       "      <th>publish_date</th>\n",
       "      <th>headline</th>\n",
       "      <th>Euclidean similarity</th>\n",
       "    </tr>\n",
       "  </thead>\n",
       "  <tbody>\n",
       "    <tr>\n",
       "      <th>1</th>\n",
       "      <td>2018-05-21</td>\n",
       "      <td>The Supreme Court Just Made It A Lot Harder For You To Sue Your Employer</td>\n",
       "      <td>1.164067</td>\n",
       "    </tr>\n",
       "    <tr>\n",
       "      <th>2</th>\n",
       "      <td>2018-04-02</td>\n",
       "      <td>The Trump Administration Is Suing California Again</td>\n",
       "      <td>1.253867</td>\n",
       "    </tr>\n",
       "    <tr>\n",
       "      <th>3</th>\n",
       "      <td>2018-04-10</td>\n",
       "      <td>Lou Dobbs Flips Out On Live TV, Urges Trump To 'Fire The SOB' Robert Mueller</td>\n",
       "      <td>1.258810</td>\n",
       "    </tr>\n",
       "    <tr>\n",
       "      <th>4</th>\n",
       "      <td>2018-04-26</td>\n",
       "      <td>Cardi B's Former Manager Sues Her For $10 Million</td>\n",
       "      <td>1.268704</td>\n",
       "    </tr>\n",
       "    <tr>\n",
       "      <th>5</th>\n",
       "      <td>2018-04-03</td>\n",
       "      <td>A Third Woman Is Suing To Break A Trump-Related Nondisclosure Agreement</td>\n",
       "      <td>1.274264</td>\n",
       "    </tr>\n",
       "    <tr>\n",
       "      <th>6</th>\n",
       "      <td>2018-02-24</td>\n",
       "      <td>Former RNC Chair Fires Back At Claim He Was Only Hired Because He Was Black</td>\n",
       "      <td>1.274847</td>\n",
       "    </tr>\n",
       "    <tr>\n",
       "      <th>7</th>\n",
       "      <td>2018-01-16</td>\n",
       "      <td>State Employer Side Payroll Taxes And Loser Liberalism</td>\n",
       "      <td>1.276696</td>\n",
       "    </tr>\n",
       "    <tr>\n",
       "      <th>8</th>\n",
       "      <td>2018-02-21</td>\n",
       "      <td>Democrats Flip Kentucky State House Seat Where Trump Won Overwhelmingly</td>\n",
       "      <td>1.282008</td>\n",
       "    </tr>\n",
       "    <tr>\n",
       "      <th>9</th>\n",
       "      <td>2018-01-09</td>\n",
       "      <td>Big Tax Game Hunting: Employer Side Payroll Taxes</td>\n",
       "      <td>1.285147</td>\n",
       "    </tr>\n",
       "    <tr>\n",
       "      <th>10</th>\n",
       "      <td>2018-02-28</td>\n",
       "      <td>Democrats Flip 2 More GOP-Held State House Seats</td>\n",
       "      <td>1.287403</td>\n",
       "    </tr>\n",
       "  </tbody>\n",
       "</table>\n",
       "</div>"
      ],
      "text/plain": [
       "   publish_date  \\\n",
       "1    2018-05-21   \n",
       "2    2018-04-02   \n",
       "3    2018-04-10   \n",
       "4    2018-04-26   \n",
       "5    2018-04-03   \n",
       "6    2018-02-24   \n",
       "7    2018-01-16   \n",
       "8    2018-02-21   \n",
       "9    2018-01-09   \n",
       "10   2018-02-28   \n",
       "\n",
       "                                                                        headline  \\\n",
       "1       The Supreme Court Just Made It A Lot Harder For You To Sue Your Employer   \n",
       "2                             The Trump Administration Is Suing California Again   \n",
       "3   Lou Dobbs Flips Out On Live TV, Urges Trump To 'Fire The SOB' Robert Mueller   \n",
       "4                              Cardi B's Former Manager Sues Her For $10 Million   \n",
       "5        A Third Woman Is Suing To Break A Trump-Related Nondisclosure Agreement   \n",
       "6    Former RNC Chair Fires Back At Claim He Was Only Hired Because He Was Black   \n",
       "7                         State Employer Side Payroll Taxes And Loser Liberalism   \n",
       "8        Democrats Flip Kentucky State House Seat Where Trump Won Overwhelmingly   \n",
       "9                              Big Tax Game Hunting: Employer Side Payroll Taxes   \n",
       "10                              Democrats Flip 2 More GOP-Held State House Seats   \n",
       "\n",
       "    Euclidean similarity  \n",
       "1               1.164067  \n",
       "2               1.253867  \n",
       "3               1.258810  \n",
       "4               1.268704  \n",
       "5               1.274264  \n",
       "6               1.274847  \n",
       "7               1.276696  \n",
       "8               1.282008  \n",
       "9               1.285147  \n",
       "10              1.287403  "
      ]
     },
     "execution_count": 39,
     "metadata": {},
     "output_type": "execute_result"
    }
   ],
   "source": [
    "# TF-IDF method\n",
    "# Vectorize the headlines using TF-IDF, note min_df could be 0 in the previous version but now it must be larger than 0\n",
    "tfidf_headline_vectorizer = TfidfVectorizer(min_df=0)\n",
    "tfidf_headline_features = tfidf_headline_vectorizer.fit_transform(news_articles_temp['headline'])\n",
    "\n",
    "# Function to find similar articles based on TF-IDF\n",
    "def tfidf_based_model(row_index, num_similar_items):\n",
    "    # Calculate Euclidean distances from the given article\n",
    "    couple_dist = pairwise_distances(tfidf_headline_features, tfidf_headline_features[row_index])\n",
    "    # Get indices of articles with the smallest distances\n",
    "    indices = np.argsort(couple_dist.ravel())[0:num_similar_items]\n",
    "    \n",
    "    # Create a DataFrame for the similar articles\n",
    "    df = pd.DataFrame({\n",
    "        'publish_date': news_articles['date'][indices].values,\n",
    "        'headline': news_articles['headline'][indices].values,\n",
    "        'Euclidean similarity': couple_dist[indices].ravel()\n",
    "    })\n",
    "    \n",
    "    # Display queried article details\n",
    "    print(\"=\"*30, \"Queried Article Details\", \"=\"*30)\n",
    "    print('Headline:', news_articles['headline'][indices[0]])\n",
    "    \n",
    "    # Display recommended similar articles\n",
    "    print(\"\\n\", \"=\"*25, \"Recommended Articles:\", \"=\"*23)\n",
    "    return df.iloc[1:,]  # Exclude the queried article from the recommendations\n",
    "\n",
    "# Example usage\n",
    "tfidf_based_model(133, 11)"
   ]
  },
  {
   "cell_type": "markdown",
   "metadata": {
    "id": "W8ktCZPQLwse"
   },
   "source": [
    "Compared to BoW method, here TF-IDF method recommends the articles with headline containing words like \"employer\", \"fire\", \"flip\" in top 5 recommendations and these words occur less frequently in the corpus.\n",
    "\n",
    "Disadvantages:\n",
    "\n",
    "Bow and TF-IDF method do not capture semantic and syntactic similarity of a given word with other words but this can be captured using Word embeddings.\n",
    "\n",
    "For example: there is a good association between words like \"trump\" and \"white house\", \"office and employee\", \"tiger\" and \"leopard\", \"USA\" and \"Washington D.C\" etc. Such kind of semantic similarity can be captured using word embedding techniques. Word embedding techniques like Word2Vec, GloVe and fastText leverage semantic similarity between words."
   ]
  },
  {
   "cell_type": "code",
   "execution_count": 41,
   "metadata": {
    "colab": {
     "base_uri": "https://localhost:8080/",
     "height": 408
    },
    "id": "6Mbose6BLbxH",
    "outputId": "e4f21b66-89a2-4003-d0bc-54e26a324a89",
    "scrolled": true
   },
   "outputs": [
    {
     "name": "stdout",
     "output_type": "stream",
     "text": [
      "============================== Queried Article Details ==============================\n",
      "Headline: Woman Fired After Flipping Off Trump's Motorcade Sues Former Employer\n",
      "\n",
      " ========================= Recommended Articles: =======================\n"
     ]
    },
    {
     "data": {
      "text/html": [
       "<div>\n",
       "<style scoped>\n",
       "    .dataframe tbody tr th:only-of-type {\n",
       "        vertical-align: middle;\n",
       "    }\n",
       "\n",
       "    .dataframe tbody tr th {\n",
       "        vertical-align: top;\n",
       "    }\n",
       "\n",
       "    .dataframe thead th {\n",
       "        text-align: right;\n",
       "    }\n",
       "</style>\n",
       "<table border=\"1\" class=\"dataframe\">\n",
       "  <thead>\n",
       "    <tr style=\"text-align: right;\">\n",
       "      <th></th>\n",
       "      <th>publish_date</th>\n",
       "      <th>headline</th>\n",
       "      <th>Euclidean similarity</th>\n",
       "    </tr>\n",
       "  </thead>\n",
       "  <tbody>\n",
       "    <tr>\n",
       "      <th>1</th>\n",
       "      <td>2018-03-19</td>\n",
       "      <td>White House Lawyer Insists Trump Isn't Considering Firing Mueller</td>\n",
       "      <td>1.087796</td>\n",
       "    </tr>\n",
       "    <tr>\n",
       "      <th>2</th>\n",
       "      <td>2018-02-24</td>\n",
       "      <td>Former RNC Chair Fires Back At Claim He Was Only Hired Because He Was Black</td>\n",
       "      <td>1.097608</td>\n",
       "    </tr>\n",
       "    <tr>\n",
       "      <th>3</th>\n",
       "      <td>2018-01-23</td>\n",
       "      <td>Former Trump Aide's Fiancee Warns White House: ‘A Lot To Come’</td>\n",
       "      <td>1.101049</td>\n",
       "    </tr>\n",
       "    <tr>\n",
       "      <th>4</th>\n",
       "      <td>2018-03-07</td>\n",
       "      <td>Former Trump Attorney Stuns 'Fox &amp; Friends,' Says Stormy Daniels NDA Is Likely Invalid</td>\n",
       "      <td>1.110137</td>\n",
       "    </tr>\n",
       "    <tr>\n",
       "      <th>5</th>\n",
       "      <td>2018-01-08</td>\n",
       "      <td>'Fire And Fury' Legal Team Hits Back At Trump In New Statement</td>\n",
       "      <td>1.113800</td>\n",
       "    </tr>\n",
       "    <tr>\n",
       "      <th>6</th>\n",
       "      <td>2018-03-17</td>\n",
       "      <td>Trump’s Legal Team Says It Can Sue Stormy Daniels For $20 Million</td>\n",
       "      <td>1.117615</td>\n",
       "    </tr>\n",
       "    <tr>\n",
       "      <th>7</th>\n",
       "      <td>2018-02-20</td>\n",
       "      <td>Trump Claims He 'Never Met' Woman Accusing Him Of Sexually Assaulting Her In Trump Tower</td>\n",
       "      <td>1.120820</td>\n",
       "    </tr>\n",
       "    <tr>\n",
       "      <th>8</th>\n",
       "      <td>2018-03-27</td>\n",
       "      <td>Attorney Who Declined A Job On Trump's Legal Team Rips 'Turmoil' In White House</td>\n",
       "      <td>1.131882</td>\n",
       "    </tr>\n",
       "    <tr>\n",
       "      <th>9</th>\n",
       "      <td>2018-01-22</td>\n",
       "      <td>Lindsey Graham Slams Trump Aide, Says White House Staff Making Negotiations ‘Difficult’</td>\n",
       "      <td>1.145354</td>\n",
       "    </tr>\n",
       "    <tr>\n",
       "      <th>10</th>\n",
       "      <td>2018-01-25</td>\n",
       "      <td>Trump HUD Official Lynne Patton Under Fire After Calling Journalist 'Miss Piggy'</td>\n",
       "      <td>1.146078</td>\n",
       "    </tr>\n",
       "  </tbody>\n",
       "</table>\n",
       "</div>"
      ],
      "text/plain": [
       "   publish_date  \\\n",
       "1    2018-03-19   \n",
       "2    2018-02-24   \n",
       "3    2018-01-23   \n",
       "4    2018-03-07   \n",
       "5    2018-01-08   \n",
       "6    2018-03-17   \n",
       "7    2018-02-20   \n",
       "8    2018-03-27   \n",
       "9    2018-01-22   \n",
       "10   2018-01-25   \n",
       "\n",
       "                                                                                    headline  \\\n",
       "1                          White House Lawyer Insists Trump Isn't Considering Firing Mueller   \n",
       "2                Former RNC Chair Fires Back At Claim He Was Only Hired Because He Was Black   \n",
       "3                             Former Trump Aide's Fiancee Warns White House: ‘A Lot To Come’   \n",
       "4     Former Trump Attorney Stuns 'Fox & Friends,' Says Stormy Daniels NDA Is Likely Invalid   \n",
       "5                             'Fire And Fury' Legal Team Hits Back At Trump In New Statement   \n",
       "6                          Trump’s Legal Team Says It Can Sue Stormy Daniels For $20 Million   \n",
       "7   Trump Claims He 'Never Met' Woman Accusing Him Of Sexually Assaulting Her In Trump Tower   \n",
       "8            Attorney Who Declined A Job On Trump's Legal Team Rips 'Turmoil' In White House   \n",
       "9    Lindsey Graham Slams Trump Aide, Says White House Staff Making Negotiations ‘Difficult’   \n",
       "10          Trump HUD Official Lynne Patton Under Fire After Calling Journalist 'Miss Piggy'   \n",
       "\n",
       "    Euclidean similarity  \n",
       "1               1.087796  \n",
       "2               1.097608  \n",
       "3               1.101049  \n",
       "4               1.110137  \n",
       "5               1.113800  \n",
       "6               1.117615  \n",
       "7               1.120820  \n",
       "8               1.131882  \n",
       "9               1.145354  \n",
       "10              1.146078  "
      ]
     },
     "execution_count": 41,
     "metadata": {},
     "output_type": "execute_result"
    }
   ],
   "source": [
    "# Word2vec\n",
    "# Load the Word2Vec model\n",
    "word2vec_model = api.load('word2vec-google-news-300')\n",
    "\n",
    "# Ensure the model is KeyedVectors for consistency\n",
    "assert isinstance(word2vec_model, KeyedVectors), \"Model should be an instance of KeyedVectors\"\n",
    "vocabulary = set(word2vec_model.index_to_key)\n",
    "\n",
    "# Function to create averaged Word2Vec vectors for headlines\n",
    "def average_word_vectors(headline, model, vocabulary, num_features):\n",
    "    words = headline.split()\n",
    "    feature_vector = np.mean([model[word] for word in words if word in vocabulary] or [np.zeros(num_features)], axis=0)\n",
    "    return feature_vector\n",
    "\n",
    "# Apply function to each headline\n",
    "w2v_headlines = np.array([average_word_vectors(headline, word2vec_model, vocabulary, 300) for headline in news_articles_temp['headline']])\n",
    "\n",
    "# Function to find similar articles based on average Word2Vec vectors\n",
    "def avg_w2v_based_model(row_index, num_similar_items):\n",
    "    distances = pairwise_distances(w2v_headlines, w2v_headlines[row_index].reshape(1, -1))\n",
    "    indices = np.argsort(distances.ravel())[0:num_similar_items]\n",
    "\n",
    "    # Create DataFrame for displaying results\n",
    "    similar_articles = pd.DataFrame({\n",
    "        'publish_date': news_articles['date'][indices].values,\n",
    "        'headline': news_articles['headline'][indices].values,\n",
    "        'Euclidean similarity': distances[indices].ravel()\n",
    "    })\n",
    "\n",
    "    # Display details of the queried article\n",
    "    print(\"=\"*30, \"Queried Article Details\", \"=\"*30)\n",
    "    print('Headline:', news_articles['headline'][indices[0]])\n",
    "\n",
    "    # Display recommended articles\n",
    "    print(\"\\n\", \"=\"*25, \"Recommended Articles:\", \"=\"*23)\n",
    "    return similar_articles.iloc[1:,]\n",
    "\n",
    "# Example usage\n",
    "avg_w2v_based_model(133, 11)"
   ]
  },
  {
   "cell_type": "markdown",
   "metadata": {
    "id": "V02SwzZEOH3p"
   },
   "source": [
    "Here, Word2Vec based representation recommends the headlines containing the word white house which is associated with the word trump in the queried article. Similarly, it recommends the headlines with words like \"offical\", \"insist\" which have semantic similarity to the words \"employer\", \"sue\" in the queried headline."
   ]
  },
  {
   "cell_type": "code",
   "execution_count": null,
   "metadata": {},
   "outputs": [],
   "source": []
  }
 ],
 "metadata": {
  "colab": {
   "provenance": []
  },
  "kernelspec": {
   "display_name": "Python 3 (ipykernel)",
   "language": "python",
   "name": "python3"
  },
  "language_info": {
   "codemirror_mode": {
    "name": "ipython",
    "version": 3
   },
   "file_extension": ".py",
   "mimetype": "text/x-python",
   "name": "python",
   "nbconvert_exporter": "python",
   "pygments_lexer": "ipython3",
   "version": "3.11.7"
  }
 },
 "nbformat": 4,
 "nbformat_minor": 4
}
